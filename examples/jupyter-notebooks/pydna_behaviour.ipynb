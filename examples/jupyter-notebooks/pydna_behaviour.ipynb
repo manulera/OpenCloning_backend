{
 "cells": [
  {
   "cell_type": "markdown",
   "id": "51fdd0bb",
   "metadata": {},
   "source": [
    "# Pydna / Biopython behaviour\n",
    "\n",
    "Here some code chunks showing some important points from biopython / pydna"
   ]
  },
  {
   "cell_type": "markdown",
   "id": "397633f4",
   "metadata": {},
   "source": [
    "## How to know if a sequence is circular or linear\n",
    "\n",
    "This is important, and might not be straightforward from certain formats."
   ]
  },
  {
   "cell_type": "code",
   "execution_count": 1,
   "id": "3f92f495",
   "metadata": {},
   "outputs": [
    {
     "name": "stdout",
     "output_type": "stream",
     "text": [
      "pydna with gb: True\n",
      "seqio with snapgene, then convert to dseqrecord: False\n",
      "seqio with snapgene, then convert to dseqrecord: True\n"
     ]
    },
    {
     "name": "stderr",
     "output_type": "stream",
     "text": [
      "/Users/Manu/.local/share/virtualenvs/ShareYourCloning_backend-YJx4ShVF/lib/python3.9/site-packages/Bio/GenBank/__init__.py:363: BiopythonParserWarning: Attempting to fix invalid location '3922..2' as it looks like incorrect origin wrapping. Please fix input file, this could have unintended behavior.\n",
      "  warnings.warn(\n",
      "/Users/Manu/.local/share/virtualenvs/ShareYourCloning_backend-YJx4ShVF/lib/python3.9/site-packages/Bio/GenBank/__init__.py:363: BiopythonParserWarning: Attempting to fix invalid location '3922..1' as it looks like incorrect origin wrapping. Please fix input file, this could have unintended behavior.\n",
      "  warnings.warn(\n"
     ]
    }
   ],
   "source": [
    "from pydna.parsers import parse as pydna_parse\n",
    "from Bio.SeqIO import read as seqio_read\n",
    "from pydna.dseqrecord import Dseqrecord\n",
    "# Pydna reader gets it right from the genbank file:\n",
    "dseqrecords = pydna_parse('../sequences/addgene-plasmid-39296-sequence-49545.gbk')\n",
    "print('pydna with gb:',dseqrecords[0].circular)\n",
    "\n",
    "seqrecord = seqio_read('../sequences/addgene-plasmid-39296-sequence-49545.dna','snapgene')\n",
    "\n",
    "# Simple conversion will not get right the fact that it is circular\n",
    "dseqrecord = Dseqrecord(seqrecord)\n",
    "print('seqio with snapgene, then convert to dseqrecord:',dseqrecord.circular)\n",
    "\n",
    "# Check in the properties to tell if the topology is circular\n",
    "iscircular = 'topology' in seqrecord.annotations.keys() and seqrecord.annotations['topology'] == 'circular'\n",
    "dseqrecord = Dseqrecord(seqrecord, circular=iscircular)\n",
    "print('seqio with snapgene, then convert to dseqrecord:',dseqrecord.circular)\n"
   ]
  },
  {
   "cell_type": "markdown",
   "id": "537a4464",
   "metadata": {},
   "source": [
    "## Restriction enzymes"
   ]
  },
  {
   "cell_type": "code",
   "execution_count": 6,
   "id": "1e550ab5",
   "metadata": {},
   "outputs": [
    {
     "name": "stdout",
     "output_type": "stream",
     "text": [
      "linear\n",
      "pos 0\n",
      "<bound method Dseq.five_prime_end of Dseq(-11)\n",
      "AAAAAAG\n",
      "TTTTTTCTTAA>\n",
      "len 11\n",
      "pos 7\n",
      "<bound method Dseq.five_prime_end of Dseq(-13)\n",
      "AATTCTTTTTTTT\n",
      "    GAAAAAAAA>\n",
      "len 13\n",
      "circular\n",
      "22\n",
      "40\n"
     ]
    }
   ],
   "source": [
    "# List of commercial enzymes\n",
    "from Bio.Restriction.Restriction import CommOnly,RestrictionType\n",
    "from pydna.dseqrecord import Dseqrecord\n",
    "from pydna.dseq import Dseq\n",
    "\n",
    "enzyme = CommOnly.format('EcoRI')\n",
    "\n",
    "# If we want to know where the enzymes cut in the original sequence\n",
    "# we use the dseq.cut() method rather than the dseqrecord.cut() one,\n",
    "# the resulting fragments have a dseq.pos parameter that indicates the\n",
    "# position of the fragment in the original sequence\n",
    "\n",
    "seq = 'AAAAAAGAATTCTTTTTTTT'\n",
    "dseq = Dseqrecord(seq,circular=False)\n",
    "cutted_list = dseq.seq.cut([enzyme])    \n",
    "print('linear')\n",
    "i:Dseq\n",
    "for i in cutted_list:\n",
    "    print('pos',i.pos)\n",
    "    print(i.five_prime_end)\n",
    "    print('len',len(i))\n",
    "\n",
    "seq = 'AAAAAAGAATTCTTTTTTAAAGAATTCCCCCCC'\n",
    "dseq = Dseqrecord(seq,circular=True)\n",
    "cutted_list = dseq.seq.cut([enzyme])\n",
    "print('circular')\n",
    "for i in cutted_list:\n",
    "    print(i.pos)\n",
    "\n",
    "\n"
   ]
  },
  {
   "cell_type": "code",
   "execution_count": 23,
   "id": "b8822048",
   "metadata": {},
   "outputs": [
    {
     "name": "stdout",
     "output_type": "stream",
     "text": [
      "We use these cutting sites\n",
      "EcoRI G^AATT_C\n",
      "BamHI GAT^_ATC\n",
      "aattcaaaaaaaagat\n",
      "aattcaaaaaaaagat\n",
      "atcaaaaaaaaaaaa\n",
      "atcaaaaaaaaaaaa\n"
     ]
    }
   ],
   "source": [
    "# List of commercial enzymes\n",
    "from Bio.Restriction.Restriction import CommOnly,RestrictionBatch,RestrictionType\n",
    "from pydna.dseqrecord import Dseqrecord\n",
    "from pydna.dseq import Dseq\n",
    "\n",
    "batch = RestrictionBatch(first=['EcoRI','EcoRV'])\n",
    "\n",
    "print('We use these cutting sites')\n",
    "print('EcoRI',CommOnly.format('EcoRI').elucidate())\n",
    "print('BamHI',CommOnly.format('EcoRV').elucidate())\n",
    "sequence = Dseq('gaattcaaaaaaaagatatcaaaaaaaaaaaa')\n",
    "cuts = batch.search(sequence)\n",
    "cutted_list = sequence.cut(batch)\n",
    "\n",
    "# Note how batch.search returns 1-based indexes\n",
    "print(cutted_list[1])\n",
    "# To access the dictionary cuts, we have to convert the string to RestrictionType\n",
    "cut_position_1based = cuts[CommOnly.format('EcoRI')][0]\n",
    "cut_position = cut_position_1based-1\n",
    "end = cut_position + len(cutted_list[1])\n",
    "print(sequence[cut_position:end])\n",
    "\n",
    "# Same for the second site\n",
    "print(cutted_list[2])\n",
    "cut_position_1based = cuts[CommOnly.format('EcoRV')][0]\n",
    "cut_position = cut_position_1based-1\n",
    "end = cut_position + len(cutted_list[2])\n",
    "print(sequence[cut_position:end])\n",
    "\n",
    "\n"
   ]
  },
  {
   "cell_type": "markdown",
   "id": "f3e86460",
   "metadata": {},
   "source": [
    "Note how in the circular one, if there are elements that cut the origin, the order is different! It would just suffice to put the first element in the list as the first one in the circular molecules"
   ]
  },
  {
   "cell_type": "code",
   "execution_count": 4,
   "id": "41905cef",
   "metadata": {},
   "outputs": [
    {
     "name": "stdout",
     "output_type": "stream",
     "text": [
      "EcoRI [11, 43]\n",
      "fragment aattcaaaaaaagaatt\n",
      "posb 43 43 15 aattcaaaaaaagaatt\n",
      "fragment aattcaaaaaaaaggatccaaaaaaaaaaaagaatt\n",
      "posb 56 11 2 aattcaaaaaaaaggatccaaaaaaaaaaaagaatt\n",
      "SECOND EXAMPLE -----------------------\n",
      "EcoRI [6, 19]\n",
      "fragment aattcaaaaaaaaggatccccccccccccgaatt\n",
      "posb 19 19 10 aattcaaaaaaaaggatccccccccccccgaatt\n",
      "fragment aattctttttttgaatt\n",
      "pos 49 6 23 aattctttttttgaatt\n"
     ]
    }
   ],
   "source": [
    "# Here the cutsite spans the origin\n",
    "\n",
    "\n",
    "batch = RestrictionBatch(first=['EcoRI'])\n",
    "sequence = Dseq('ttcaaaaaaagaattcaaaaaaaaggatccaaaaaaaaaaaagaa',circular=True)\n",
    "cuts = batch.search(sequence,circular=True)\n",
    "\n",
    "cutted_list = sequence.cut(batch)\n",
    "for key in cuts:\n",
    "    # batch.search returns 1-based indexes\n",
    "    print(key,[pos - 1 for pos in cuts[key]])\n",
    "\n",
    "\n",
    "for i,fragment in enumerate(cutted_list):\n",
    "    print('fragment',fragment)\n",
    "    start = fragment.pos % len(sequence)\n",
    "    end = (start+len(fragment)) % len(sequence)\n",
    "    \n",
    "    if start+len(fragment)>len(sequence):\n",
    "        print('posb',fragment.pos,start,end,sequence[start:]+sequence[:end])\n",
    "    else:\n",
    "        print('pos',fragment.pos,start,end,sequence[start:end])\n",
    "\n",
    "# Here the cutsite does not span the origin, but there is a fragment that does\n",
    "\n",
    "print('SECOND EXAMPLE -----------------------')\n",
    "\n",
    "batch = RestrictionBatch(first=['EcoRI'])\n",
    "sequence = Dseq('cccccgaattctttttttgaattcaaaaaaaaggatccccccc',circular=True)\n",
    "cuts = batch.search(sequence,circular=True)\n",
    "\n",
    "cutted_list = sequence.cut(batch)\n",
    "\n",
    "for key in cuts:\n",
    "    # batch.search returns 1-based indexes\n",
    "    print(key,[pos - 1 for pos in cuts[key]])\n",
    "\n",
    "\n",
    "for i,fragment in enumerate(cutted_list):\n",
    "    print('fragment',fragment)\n",
    "    start = fragment.pos % len(sequence)\n",
    "    end = (start+len(fragment)) % len(sequence)\n",
    "    \n",
    "    if start+len(fragment)>len(sequence):\n",
    "        print('posb',fragment.pos,start,end,sequence[start:]+sequence[:end])\n",
    "    else:\n",
    "        print('pos',fragment.pos,start,end,sequence[start:end])\n"
   ]
  },
  {
   "cell_type": "markdown",
   "id": "2d08990f",
   "metadata": {},
   "source": [
    "Is the order of the sites inconsistent?"
   ]
  },
  {
   "cell_type": "code",
   "execution_count": 1,
   "id": "5928f4d1",
   "metadata": {},
   "outputs": [
    {
     "name": "stdout",
     "output_type": "stream",
     "text": [
      "with class: <class 'pydna.dseq.Dseq'>\n",
      "  > List of enzymes\n",
      "    GATCCAAAAGAT\n",
      "    ATCAAAAAAAAGGATC\n",
      "  > Unpacked list of enzymes\n",
      "    GATCCAAAAGAT\n",
      "    ATCAAAAAAAAGGATC\n",
      "  > Restriction batch\n",
      "    GATCCAAAAGAT\n",
      "    GATCCAAAAGAT\n",
      "with class: <class 'pydna.dseqrecord.Dseqrecord'>\n",
      "  > List of enzymes\n",
      "    GATCCAAAAGAT\n",
      "    ATCAAAAAAAAGGATC\n",
      "  > Unpacked list of enzymes\n",
      "    GATCCAAAAGAT\n",
      "    ATCAAAAAAAAGGATC\n",
      "  > Restriction batch\n",
      "    GATCCAAAAGAT\n",
      "    GATCCAAAAGAT\n"
     ]
    }
   ],
   "source": [
    "from Bio.Restriction.Restriction import CommOnly,RestrictionBatch,RestrictionType\n",
    "from pydna.dseqrecord import Dseqrecord\n",
    "from pydna.dseq import Dseq\n",
    "\n",
    "enzyme_names = ['BamHI', 'EcoRV']\n",
    "enzymes = [CommOnly.format(e) for e in enzyme_names]\n",
    "\n",
    "for Class in [Dseq,Dseqrecord]:\n",
    "    print('with class: ' + str(Class))\n",
    "    object = Class('AAAGGATCCAAAAGATATCAAAAA', linear=False)\n",
    "    \n",
    "    # With a list of enzymes\n",
    "    print('  >','List of enzymes')\n",
    "    fragments = object.cut(enzymes)\n",
    "    \n",
    "    if Class==Dseqrecord:\n",
    "        print('   ',fragments[0].seq)\n",
    "    else:\n",
    "        print('   ',fragments[0])\n",
    "\n",
    "    fragments = object.cut(enzymes[::-1])\n",
    "    \n",
    "    if Class==Dseqrecord:\n",
    "        print('   ',fragments[0].seq)\n",
    "    else:\n",
    "        print('   ',fragments[0])\n",
    "\n",
    "    # With a list of enzymes\n",
    "    print('  >','Unpacked list of enzymes')\n",
    "    fragments = object.cut(*enzymes)\n",
    "    \n",
    "    if Class==Dseqrecord:\n",
    "        print('   ',fragments[0].seq)\n",
    "    else:\n",
    "        print('   ',fragments[0])\n",
    "\n",
    "    fragments = object.cut(*enzymes[::-1])\n",
    "\n",
    "    if Class==Dseqrecord:\n",
    "        print('   ',fragments[0].seq)\n",
    "    else:\n",
    "        print('   ',fragments[0])\n",
    "\n",
    "    # With a RestrictionBatch\n",
    "    print('  >','Restriction batch')\n",
    "    fragments = object.cut(RestrictionBatch(first=enzymes))\n",
    "    \n",
    "    if Class==Dseqrecord:\n",
    "        print('   ',fragments[0].seq)\n",
    "    else:\n",
    "        print('   ',fragments[0])\n",
    "\n",
    "    fragments = object.cut(RestrictionBatch(first=enzymes[::-1]))\n",
    "    \n",
    "    if Class==Dseqrecord:\n",
    "        print('   ',fragments[0].seq)\n",
    "    else:\n",
    "        print('   ',fragments[0])\n",
    "\n"
   ]
  },
  {
   "cell_type": "markdown",
   "id": "7c4af946",
   "metadata": {},
   "source": [
    "## Requesting genes to Genbank\n",
    "\n",
    "What happens when Genbank is down?"
   ]
  },
  {
   "cell_type": "code",
   "execution_count": 4,
   "id": "874aac39",
   "metadata": {},
   "outputs": [
    {
     "name": "stdout",
     "output_type": "stream",
     "text": [
      "Dseqrecord\n",
      "circular: False\n",
      "size: 2671\n",
      "ID: NM_001018957.2\n",
      "Name: NM_001018957\n",
      "Description: Schizosaccharomyces pombe antiparallel microtubule cross-linking factor Ase1 (ase1), mRNA\n",
      "Database cross-references: BioProject:PRJNA127, BioSample:SAMEA3138176\n",
      "Number of features: 3\n",
      "/molecule_type=DNA\n",
      "/topology=linear\n",
      "/data_file_division=PLN\n",
      "/date=03-APR-2018\n",
      "/accessions=['NM_001018957']\n",
      "/sequence_version=2\n",
      "/keywords=['RefSeq']\n",
      "/source=Schizosaccharomyces pombe (fission yeast)\n",
      "/organism=Schizosaccharomyces pombe\n",
      "/taxonomy=['Eukaryota', 'Fungi', 'Dikarya', 'Ascomycota', 'Taphrinomycotina', 'Schizosaccharomycetes', 'Schizosaccharomycetales', 'Schizosaccharomycetaceae', 'Schizosaccharomyces']\n",
      "/references=[Reference(title='The genome sequence of Schizosaccharomyces pombe', ...), Reference(title='Direct Submission', ...), Reference(title='Direct Submission', ...)]\n",
      "/comment=PROVISIONAL REFSEQ: This record has not yet been subject to final\n",
      "NCBI review. This record is derived from an annotated genomic\n",
      "sequence (NC_003424).\n",
      "On Dec 10, 2012 this sequence version replaced NM_001018957.1.\n",
      "Dseq(-2671)\n",
      "GTAG..CTAA\n",
      "CATC..GATT\n"
     ]
    }
   ],
   "source": [
    "from pydna.genbank import Genbank\n",
    "from pydna.dseqrecord import Dseqrecord\n",
    "# The HTTPError is taken from this library\n",
    "from urllib.error import HTTPError, URLError\n",
    "\n",
    "\n",
    "gb = Genbank(\"example@gmail.com\")\n",
    "\n",
    "# A request when genbank is down (returns 'HTTP Error 500: Internal Server Error')\n",
    "try:\n",
    "    seq = Dseqrecord(gb.nucleotide('NM_001018957.2'))\n",
    "    print(seq)\n",
    "except HTTPError as exception:\n",
    "    print(exception)\n",
    "    print(repr(exception))\n",
    "except URLError as exception:\n",
    "    print(exception.reason, type(exception.reason))\n",
    "\n",
    "\n",
    "\n",
    "    "
   ]
  },
  {
   "cell_type": "code",
   "execution_count": 5,
   "id": "b156b056",
   "metadata": {},
   "outputs": [
    {
     "name": "stdout",
     "output_type": "stream",
     "text": [
      "HTTP Error 400: Bad Request\n",
      "<HTTPError 400: 'Bad Request'>\n"
     ]
    }
   ],
   "source": [
    "# A request when the id does not exist\n",
    "try:\n",
    "    seq = Dseqrecord(gb.nucleotide('doesntexist'))\n",
    "except HTTPError as exception:\n",
    "    print(exception)\n",
    "    print(repr(exception))\n",
    "    "
   ]
  },
  {
   "cell_type": "markdown",
   "id": "ac42b7db",
   "metadata": {},
   "source": [
    "## Ligation with sticky ends\n"
   ]
  },
  {
   "cell_type": "code",
   "execution_count": 6,
   "id": "c585aece",
   "metadata": {},
   "outputs": [
    {
     "name": "stdout",
     "output_type": "stream",
     "text": [
      "Joining sticky ends----\n",
      "Dseq(-20)\n",
      "AAAAAAGAATTCTTTTTTTT\n",
      "TTTTTTCTTAAGAAAAAAAA\n",
      "Joining blunt ends----\n",
      "Dseq(-24)\n",
      "AATTCTTTTTTTTAAAAAAG\n",
      "    GAAAAAAAATTTTTTCTTAA\n",
      "\n",
      "Dseq(-16)\n",
      "AATTCAAAAAAG\n",
      "    GTTTTTTCTTAA\n",
      "Dseq(-18)\n",
      "AATTCTAAACCCTG\n",
      "    GATTTGGGACTTAA\n",
      "\n",
      "Assembly of the same fragment in both directions ----\n",
      "AATTCAAAAAAGAATTCTAAACCCTG\n",
      "AATTCTAAACCCTGAATTCAAAAAAG\n"
     ]
    }
   ],
   "source": [
    "from pydna.dseqrecord import Dseqrecord\n",
    "from Bio.Restriction.Restriction import CommOnly\n",
    "\n",
    "# When only one orientation is possible\n",
    "\n",
    "enzyme = CommOnly.format('EcoRI')\n",
    "seq = 'AAAAAAGAATTCTTTTTTTT'\n",
    "dseq = Dseqrecord(seq,circular=False)\n",
    "cutted_list = dseq.seq.cut([enzyme])\n",
    "\n",
    "print('Joining sticky ends----')\n",
    "print(repr(cutted_list[0] + cutted_list[1]))\n",
    "\n",
    "# Order matters (This is a blunt end join of the ends)\n",
    "print('Joining blunt ends----')\n",
    "print(repr(cutted_list[1] + cutted_list[0]))\n",
    "\n",
    "# When two orientations are possible\n",
    "seq = 'AAAAAAGAATTCTAAACCCTGAATTC'\n",
    "dseq = Dseqrecord(seq,circular=True)\n",
    "cutted_list = dseq.seq.cut([enzyme])\n",
    "\n",
    "print()\n",
    "print(repr(cutted_list[0]))\n",
    "print(repr(cutted_list[1]))\n",
    "\n",
    "# Note how order matters in the sum when a fragment can be inserted in both directions\n",
    "pre_assemble1 = cutted_list[0] + cutted_list[1]\n",
    "pre_assemble2 = cutted_list[1] + cutted_list[0]\n",
    "\n",
    "print()\n",
    "print('Assembly of the same fragment in both directions ----')\n",
    "print(pre_assemble1.looped())\n",
    "print(pre_assemble2.looped())\n",
    "\n",
    "\n",
    "\n"
   ]
  },
  {
   "cell_type": "markdown",
   "id": "9eb07119",
   "metadata": {},
   "source": [
    "# Understanding PCRs"
   ]
  },
  {
   "cell_type": "code",
   "execution_count": 1,
   "id": "b6d3d5f4",
   "metadata": {},
   "outputs": [],
   "source": [
    "# PCR\n",
    "from pydna.parsers import parse\n",
    "from pydna.dseqrecord import Dseqrecord\n",
    "from pydna.primer import Primer\n",
    "from pydna.amplify import Anneal\n",
    "from pydna.amplicon import Amplicon\n",
    "\n",
    "# Read a plasmid\n",
    "template = parse('../sequences/pFA6a-hphMX6.gb')[0]\n",
    "\n",
    "# We remove the features to see if the primer annealing is added\n",
    "# template.features = list()\n",
    "\n",
    "# Create the adequate primers (these ones have extensions to be used for a gene deletion)\n",
    "\n",
    "primer1 = Primer(\n",
    "    record = 'AGTTTTCATATCTTCCTTTATATTCTATTAATTGAATTTCAAACATCGTTTTATTGAGCTCATTTACATCAACCGGTTCACGGATCCCCGGGTTAATTAA',\n",
    "    id = 'P1',\n",
    "    name = 'ase1_forward'\n",
    "\n",
    ")\n",
    "\n",
    "primer2 = Primer(\n",
    "    record = 'CTTTTATGAATTATCTATATGCTGTATTCATATGCAAAAATATGTATATTTAAATTTGATCGATTAGGTAAATAAGAAGCGAATTCGAGCTCGTTTAAAC',\n",
    "    id = 'P2',\n",
    "    name = 'ase1_reverse'\n",
    ")\n",
    "\n",
    "anneal = Anneal([primer1,primer2], template, limit=13)\n",
    "amplicon: Amplicon = anneal.products[0]\n",
    "\n",
    "# The last two added features are the primer alignment sites\n",
    "# TODO write a test because we rely on this behaviour\n",
    "# print(amplicon.template.features[-2:])\n",
    "forward_alignment = []\n",
    "\n",
    "\n",
    "\n"
   ]
  },
  {
   "cell_type": "markdown",
   "id": "88d4fcca",
   "metadata": {},
   "source": [
    "# Understanding primer aligning"
   ]
  },
  {
   "cell_type": "code",
   "execution_count": 13,
   "id": "f1874d11",
   "metadata": {},
   "outputs": [
    {
     "name": "stdout",
     "output_type": "stream",
     "text": [
      "8\n",
      "23\n",
      "Dseqrecord\n",
      "circular: False\n",
      "size: 15\n",
      "ID: part_id\n",
      "Name: part_name\n",
      "Description: description\n",
      "Number of features: 0\n",
      "/molecule_type=DNA\n",
      "Dseq(-15)\n",
      "GGGGGGGGGGGGGGG\n",
      "CCCCCCCCCCCCCCC\n"
     ]
    }
   ],
   "source": [
    "# PCR\n",
    "from pydna.parsers import parse\n",
    "from pydna.dseqrecord import Dseqrecord\n",
    "from pydna.primer import Primer\n",
    "from pydna.amplify import Anneal\n",
    "from pydna.amplicon import Amplicon\n",
    "from pydna.dseq import Dseq\n",
    "\n",
    "primer1 = Primer(\n",
    "    record = 'TA'*4,\n",
    "    id = 'P1',\n",
    "    name = 'forward'\n",
    "\n",
    ")\n",
    "\n",
    "primer2 = Primer(\n",
    "    record = 'CG'*4,\n",
    "    id = 'P2',\n",
    "    name = 'reverse'\n",
    ")\n",
    "template = Dseqrecord('TA'*4+'GGGGGGGGGGGGGGG'+'CG'*4)\n",
    "anneal = Anneal([primer1,primer2], template, limit=8)\n",
    "amplicon: Amplicon = anneal.products[0]\n",
    "left_boundary = amplicon.forward_primer.position\n",
    "right_boundary = amplicon.reverse_primer.position\n",
    "print(left_boundary)\n",
    "print(right_boundary)\n",
    "print(template[left_boundary:right_boundary])\n"
   ]
  }
 ],
 "metadata": {
  "interpreter": {
   "hash": "d44db37e4157f9172367332f9b69e9a014295cba8ccd29f52d3916055eea39b0"
  },
  "kernelspec": {
   "display_name": "ShareYourCloning_backend_fastAPI",
   "language": "python",
   "name": "python3"
  },
  "language_info": {
   "codemirror_mode": {
    "name": "ipython",
    "version": 3
   },
   "file_extension": ".py",
   "mimetype": "text/x-python",
   "name": "python",
   "nbconvert_exporter": "python",
   "pygments_lexer": "ipython3",
   "version": "3.9.4"
  }
 },
 "nbformat": 4,
 "nbformat_minor": 5
}
