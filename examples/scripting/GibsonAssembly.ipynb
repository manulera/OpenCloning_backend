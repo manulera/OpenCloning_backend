{
 "cells": [
  {
   "cell_type": "code",
   "execution_count": null,
   "metadata": {},
   "outputs": [],
   "source": [
    "%%capture\n",
    "# Install pydna (only when running on Colab)\n",
    "import sys\n",
    "if 'google.colab' in sys.modules:\n",
    "    %pip install opencloning"
   ]
  },
  {
   "cell_type": "markdown",
   "metadata": {},
   "source": [
    "# Gibson Assembly\n",
    "\n",
    "Let's imagine we want to clone a gene of interest into a plasmid vector using Gibson Assembly. In this case, we want to clone the gene ase1 from _S. cerevisiae_ into the vector pREP42-MCS+ (AddGene ID: 52691)."
   ]
  },
  {
   "cell_type": "markdown",
   "metadata": {},
   "source": [
    "## Importing sequences\n",
    "\n",
    "You can use OpenCloning to fetch the sequences directly, or provide your own files. Let's see how we can do this."
   ]
  },
  {
   "cell_type": "markdown",
   "metadata": {},
   "source": [
    "### Getting the AddGene plasmid"
   ]
  },
  {
   "cell_type": "code",
   "execution_count": null,
   "metadata": {},
   "outputs": [
    {
     "name": "stdout",
     "output_type": "stream",
     "text": [
      "{\n",
      "  \"id\": 0,\n",
      "  \"type\": \"TextFileSequence\",\n",
      "  \"sequence_file_format\": \"genbank\",\n",
      "  \"overhang_crick_3prime\": 0,\n",
      "  \"overhang_watson_3prime\": 0,\n",
      "  \"file_content\": \"LOCUS       pREP42-MCS+             8315 bp    DNA     circular SYN 26-AUG-2024\\nDEFINITION  Same as pREP42, with better MCS.\\nACCESSION   .\\nVERSION     .\\nKEYWORDS    .\\nSOURCE      synthetic DNA construct\\n  ORGANISM  synthetic DNA construct\\n            .\\nREFERENCE   1  (bases 1 to 8315)\\n  TITLE     various\\n  JOURNAL   Unpublished\\nREFERENCE   2  (bases 1 to 8315)\\n  AUTHORS   .\\n  TITLE     Direct Submission\\n  JOURNAL   Exported Aug 26, 2024 from SnapGene Server 7.0.3\\n            https://www.snapgene.com\\nCOMMENT     SGRef: number: 1; type: \\\"Journal Article\\\"; journalName:\\n            \\\"Unpublished\\\"\\nFEATURES             Location/Qualifiers\\n     source          1..8315\\n                     /mol_type=\\\"other DNA\\\"\\n                     /organism=\\\"synthetic DNA construct\\\"\\n     promoter        531..1685\\n                     /label=\\\"nmt1 P41 promoter\\\"\\n                     /note=\\\"mutant nmt1 promoter from Schizosaccharomyces pombe,\\n                     conferring medium strength thiamine-repressible expression\\\"\\n     rep_origin      2802..3585\\n                     /label=\\\"ars1\\\"\\n                     /note=\\\"Schizosaccharomyces pombe autonomously replicating\\n                     sequence ars1\\\"\\n     primer_bind     complement(3935..3952)\\n                     /label=\\\"M13 Forward\\\"\\n                     /note=\\\"In lacZ gene. Also called M13-F20 or M13 (-21)\\n                     Forward\\\"\\n     primer_bind     complement(3935..3951)\\n                     /label=\\\"M13 fwd\\\"\\n                     /note=\\\"common sequencing primer, one of multiple similar\\n                     variants\\\"\\n     primer_bind     complement(3944..3966)\\n                     /label=\\\"M13/pUC Forward\\\"\\n                     /note=\\\"In lacZ gene\\\"\\n     rep_origin      4164..4619\\n                     /direction=RIGHT\\n                     /label=\\\"f1 ori\\\"\\n                     /note=\\\"f1 bacteriophage origin of replication; arrow\\n                     indicates direction of (+) strand synthesis\\\"\\n     primer_bind     complement(4251..4270)\\n                     /label=\\\"F1ori-R\\\"\\n                     /note=\\\"F1 origin, reverse primer\\\"\\n     primer_bind     4461..4482\\n                     /label=\\\"F1ori-F\\\"\\n                     /note=\\\"F1 origin, forward primer\\\"\\n     primer_bind     complement(4636..4655)\\n                     /label=\\\"pRS-marker\\\"\\n                     /note=\\\"pRS vectors, use to sequence yeast selectable\\n                     marker\\\"\\n     primer_bind     4755..4777\\n                     /label=\\\"pGEX 3'\\\"\\n                     /note=\\\"pGEX vectors, reverse primer\\\"\\n     primer_bind     complement(4815..4833)\\n                     /label=\\\"pBRforEco\\\"\\n                     /note=\\\"pBR322 vectors, upsteam of EcoRI site, forward\\n                     primer\\\"\\n     promoter        4901..5005\\n                     /gene=\\\"bla\\\"\\n                     /label=\\\"AmpR promoter\\\"\\n     CDS             5006..5866\\n                     /codon_start=1\\n                     /gene=\\\"bla\\\"\\n                     /product=\\\"beta-lactamase\\\"\\n                     /label=\\\"AmpR\\\"\\n                     /note=\\\"confers resistance to ampicillin, carbenicillin, and\\n                     related antibiotics\\\"\\n                     /translation=\\\"MSIQHFRVALIPFFAAFCLPVFAHPETLVKVKDAEDQLGARVGYI\\n                     ELDLNSGKILESFRPEERFPMMSTFKVLLCGAVLSRIDAGQEQLGRRIHYSQNDLVEYS\\n                     PVTEKHLTDGMTVRELCSAAITMSDNTAANLLLTTIGGPKELTAFLHNMGDHVTRLDRW\\n                     EPELNEAIPNDERDTTMPVAMATTLRKLLTGELLTLASRQQLIDWMEADKVAGPLLRSA\\n                     LPAGWFIADKSGAGERGSRGIIAALGPDGKPSRIVVIYTTGSQATMDERNRQIAEIGAS\\n                     LIKHW\\\"\\n     primer_bind     complement(5224..5243)\\n                     /label=\\\"Amp-R\\\"\\n                     /note=\\\"Ampicillin resistance gene, reverse primer\\\"\\n     rep_origin      6037..6625\\n                     /direction=RIGHT\\n                     /label=\\\"ori\\\"\\n                     /note=\\\"high-copy-number ColE1/pMB1/pBR322/pUC origin of\\n                     replication\\\"\\n     primer_bind     6526..6545\\n                     /label=\\\"pBR322ori-F\\\"\\n                     /note=\\\"pBR322 origin, forward primer\\\"\\n     primer_bind     6779..6796\\n                     /label=\\\"L4440\\\"\\n                     /note=\\\"L4440 vector, forward primer\\\"\\n     protein_bind    6913..6934\\n                     /label=\\\"CAP binding site\\\"\\n                     /bound_moiety=\\\"E. coli catabolite activator protein\\\"\\n                     /note=\\\"CAP binding activates transcription in the presence\\n                     of cAMP.\\\"\\n     promoter        6949..6979\\n                     /label=\\\"lac promoter\\\"\\n                     /note=\\\"promoter for the E. coli lac operon\\\"\\n     protein_bind    6987..7003\\n                     /label=\\\"lac operator\\\"\\n                     /bound_moiety=\\\"lac repressor encoded by lacI\\\"\\n                     /note=\\\"The lac repressor binds to the lac operator to\\n                     inhibit transcription in E. coli. This inhibition can be\\n                     relieved by adding lactose or\\n                     isopropyl-beta-D-thiogalactopyranoside (IPTG).\\\"\\n     primer_bind     6992..7014\\n                     /label=\\\"M13/pUC Reverse\\\"\\n                     /note=\\\"In lacZ gene\\\"\\n     primer_bind     7011..7027\\n                     /label=\\\"M13 rev\\\"\\n                     /note=\\\"common sequencing primer, one of multiple similar\\n                     variants\\\"\\n     primer_bind     7011..7027\\n                     /label=\\\"M13 Reverse\\\"\\n                     /note=\\\"In lacZ gene. Also called M13-rev\\\"\\n     CDS             complement(7476..8270)\\n                     /codon_start=1\\n                     /gene=\\\"Schizosaccharomyces pombe ura4\\\"\\n                     /product=\\\"orotidine 5'-phosphate decarboxylase, required\\n                     for uracil biosynthesis\\\"\\n                     /label=\\\"S. pombe ura4\\\"\\n                     /translation=\\\"MDARVFQSYSARAEGMKNPIAKELLALMEEKQSNLSVAVDLTKKS\\n                     EILELVDKIGPYVCVIKTHIDVVEDFDQDMVEKLVALGKKHRFLIFEDRKFADIGNTVK\\n                     LQYASGVYKIASWAHITNCHTVPGEGIIQGLKEVGLPLGRGLLLLAEMSSKGSLATGSY\\n                     TEKTLEWFEKHTDFCFGFIAGRRFPNLQSDYITMSPGIGLDVKGDGLGQQYRTPEEVIV\\n                     NCGSDIIIVGRGVYGAGRNPVVEAKRYREAGWKAYQQRLSQH\\\"\\nORIGIN\\n        1 ttcttggtag gacaatacgg taagaaaaca cgacatgtgc agagatgccg acgaagcata\\n       61 gttaaactgg gatggtaaaa tcaattaaga atttataaag acaaaattgt ataagtctct\\n      121 aaaacatctt aattatacct cacagaacta tctaaaatat attcacaaag tgcaaacatt\\n      181 atcatgaaaa agaaccattt taatttaaag caagggcatt aaggcttatt tacagaattt\\n      241 cttacttttg taaagattat aaggctgatt atctttttca ccatgccaaa aattacacaa\\n      301 gatagaatgg atgtttgaaa ttaaacgtga gtatacaaac aaatacacta ggtaaatcga\\n      361 aacatttttt tctccattaa gtaacaaatt cctatttaga gaaagaatgc tgagtagatt\\n      421 aaataatcta tacaaacttt tttaacacaa atgcatacat atagccagtg ggatttgtag\\n      481 ctaagcttgc atgcctgcag gtcgatcgac tctagaggat cagaaaatta tcgccataaa\\n      541 agacagaata agtcatcagc ggttgtttca tttcctatat ttttttttta tttttttatt\\n      601 ttttaataag ggaaaattta acgtctaagg atacagaaga ttgttagcac attaaagtaa\\n      661 taaaggctta agtagtaagt gccttagcat gttattgtat ttcaaaggac ataatctaaa\\n      721 ataataacaa tatcatttct cacaagttat tcaattttct tttttttttc taataatatc\\n      781 aagaatgtat tatttgtttg acataagtca actaatttat ttaatatgct ggattaatct\\n      841 tgcagacatg taaattaaca agttttagtc aaataacgtt gaagtttcaa tgaactcaaa\\n      901 taatttctct ttttttttat ataaccataa tctgatttat attttccgca gggatcaact\\n      961 gaagttatga catttggatt ggatcactta taaccttggt cgccaaataa tacaaaaatc\\n     1021 agcgttataa aacaaagaag gtttttgtta agaaattaat cctctttctt gataagaaag\\n     1081 ttgaaccgaa attgcagata ctgatatatg aaaataatac ccacaatttt gggaatagcg\\n     1141 caagcctcaa tttaaacaat aggtgaggac acatgataat gacctcaatg attgttagaa\\n     1201 gaaaagagcc tcattacaaa atcgaaaaat gaatggttgg gtacaagttt ccaaaacatg\\n     1261 gtaaagtgga ctttgcgtat gagacgtaaa tagaaaaaaa cacttgttat atgttttcta\\n     1321 gaattattgt tgtctcttta tggttggatg atgcaaaata gtaatttcgg ttagttgctg\\n     1381 taaaacacca cgagacaaat agatatggat atttattaaa tcaggaaaaa cgtaactctc\\n     1441 ggctactgga tggttcagtc acccaacgat tactggggag agaaaacagg gcaaaagcaa\\n     1501 agcttaaagg aatccgattg tcattcggca atgtgcagcg aaactaaaaa ccggataatg\\n     1561 gacctgttaa tcgaaacatt gaagataaag gaagaggaat cctggcatat catcaattga\\n     1621 ataagttgaa ttaattattt caatctcatt ctcactttct gacttatagt cgctttgtta\\n     1681 aatcatatgc tcgagagatc tgtcgaccca tgggctagcg gatccccggg taaaaggaat\\n     1741 gtctcccttg ccagtactgc tagggttttt ctttcaaact atggaagccc attcaagctg\\n     1801 catattacga ttttgttttt cgcttttaga aagtggttta gatgagataa tagaaaaatt\\n     1861 cttgatctcc gacaacgagt acttttattt tttttgctaa tcactttact caatattagc\\n     1921 tcgaaatcgt agaaacgtag acgggtgcgg gataccgagt ggtgtagtta agaattttta\\n     1981 taaaccacgt ggcccaaaaa tatgaaccca aaacgtttat acatgagtat actttaagaa\\n     2041 ggctataccc cttcgtgtta gatgtagttt tagctaccca acccgagtct atgagcttga\\n     2101 cttcagatgt agaaggcatt aaatcgtttt gaatattaat taaaaaacga tgaaaattaa\\n     2161 atatttaaaa gcaatcatac gctgaaaatt tagtgctgtg gctaatcctt caacatggaa\\n     2221 atgccataaa agtgactttg acaaaaaaaa aagtatatac aggtagtaaa ctcatctact\\n     2281 tcattgactt tgtttacagc atgtggaagg aggaatattt attgctaaat cgtagtttaa\\n     2341 cattcaataa gtaatactat tgaaattcga caagattggc cgcatggatg aaaaagaggc\\n     2401 attttgcttt gggagaatta gtccaaatta gaactgaaaa aaaaaacttt acgaggcaaa\\n     2461 aatgtcggat tgagatcgta aaagttcgct cgtcgtcttt tgctttgtga ttgttttcat\\n     2521 ggatacatct tgctggatat ttaaatttta gtactatgta taagatattc tataaatgtt\\n     2581 ttatcaccca aacctgttag cgccttctta attctattca atctggcttt tgctctgaga\\n     2641 ctacttcttg gactttcact acttgttagt tatacggaat ttgtgtaatt agaagtgaaa\\n     2701 taatcctttc tattagtaat gcgagctcga attcgagtct aactccttaa ccactcggac\\n     2761 atagtgactt atctgacact cattgtaaat taatatatat ataggcattt tgtttagtta\\n     2821 aaggtactta agtaattagt ataaacgaac caattttata atcaggaagt taagtgaatg\\n     2881 gtagcacatg tcgtaaaaat tgtgaatttt tattgaataa tattttaaat acaagccttt\\n     2941 ctagactagg tatactcata aacatatatg agcaaaagga tagaggagat tacattgcat\\n     3001 cttctacaaa tttatttatt gccctttact gaaaaattaa ataatgagta ctaaatgata\\n     3061 aaaagcgctc agtacaagaa agattgcaaa aatattgcat tcttcatgaa ttaaagttgc\\n     3121 atataaggca tattgaaagt aatagtacta aaacagcagt tagcgaaaat taatagaatt\\n     3181 atattcgcaa gacaattgtg acattaaatt aaaaaattgt agaattttta ctatcctctt\\n     3241 taacgccatg agcctttata aaaaggttaa attagtttta acattctttt tttgagtaag\\n     3301 agtttacaat ttatcaaaac ctgtgttatt atattcatta gtttcaattt attagcatct\\n     3361 agagaaaaat caattggcag ttacattgtt ggaatttatg aagaaaaaga atctacaacg\\n     3421 gagaataagt tgctgatcgc tttccctaaa attgtatatt ttgctgagct tattttgaca\\n     3481 tttcgttgaa gttttctcta attcgcattc attttaagta aaacaatgag aaataaaatt\\n     3541 acaaaaaata caaattaaaa tacaattttt agctataatt atagacgatg cccttgtatc\\n     3601 ccattctgtc tcgcttgccc ctacttttta tcttttatat accataatga acgctgccgc\\n     3661 tactaaccat accccgattt tacatttcgg actcccaagg acgtacaaaa tagaaaacta\\n     3721 tagaaaaaaa taatcagaaa atagcatgtc atctctttgt aaaacgcgtt tgcaagaaga\\n     3781 aaggaaacaa tggagaagag atcatccatt tgtatgtaaa ttttagtaaa cttgaagaaa\\n     3841 tcactaacaa cttctcttac ttagggattc tatgcaaaac cttgtaaatc atctgatgga\\n     3901 ggactcgatt taatgaattg gaaggttgga attcactggc cgtcgtttta caacgtcgtg\\n     3961 actgggaaaa ccctggcgtt acccaactta atcgccttgc agcacatccc cctttcgcca\\n     4021 gctggcgtaa tagcgaagag gcccgcaccg atcgcccttc ccaacagttg cgcagcctga\\n     4081 atggcgaatg gcgcctgatg cggtattttc tccttacgca tctgtgcggt atttcacacc\\n     4141 gcatacgtca aagcaaccat agtacgcgcc ctgtagcggc gcattaagcg cggcgggtgt\\n     4201 ggtggttacg cgcagcgtga ccgctacact tgccagcgcc ttagcgcccg ctcctttcgc\\n     4261 tttcttccct tcctttctcg ccacgttcgc cggctttccc cgtcaagctc taaatcgggg\\n     4321 gctcccttta gggttccgat ttagtgcttt acggcacctc gaccccaaaa aacttgattt\\n     4381 gggtgatggt tcacgtagtg ggccatcgcc ctgatagacg gtttttcgcc ctttgacgtt\\n     4441 ggagtccacg ttctttaata gtggactctt gttccaaact ggaacaacac tcaactctat\\n     4501 ctcgggctat tcttttgatt tataagggat tttgccgatt tcggtctatt ggttaaaaaa\\n     4561 tgagctgatt taacaaaaat ttaacgcgaa ttttaacaaa atattaacgt ttacaatttt\\n     4621 atggtgcact ctcagtacaa tctgctctga tgccgcatag ttaagccagc cccgacaccc\\n     4681 gccaacaccc gctgacgcgc cctgacgggc ttgtctgctc ccggcatccg cttacagaca\\n     4741 agctgtgacc gtctccggga gctgcatgtg tcagaggttt tcaccgtcat caccgaaacg\\n     4801 cgcgagacga aagggcctcg tgatacgcct atttttatag gttaatgtca tgataataat\\n     4861 ggtttcttag acgtcaggtg gcacttttcg gggaaatgtg cgcggaaccc ctatttgttt\\n     4921 atttttctaa atacattcaa atatgtatcc gctcatgaga caataaccct gataaatgct\\n     4981 tcaataatat tgaaaaagga agagtatgag tattcaacat ttccgtgtcg cccttattcc\\n     5041 cttttttgcg gcattttgcc ttcctgtttt tgctcaccca gaaacgctgg tgaaagtaaa\\n     5101 agatgctgaa gatcagttgg gtgcacgagt gggttacatc gaactggatc tcaacagcgg\\n     5161 taagatcctt gagagttttc gccccgaaga acgttttcca atgatgagca cttttaaagt\\n     5221 tctgctatgt ggcgcggtat tatcccgtat tgacgccggg caagagcaac tcggtcgccg\\n     5281 catacactat tctcagaatg acttggttga gtactcacca gtcacagaaa agcatcttac\\n     5341 ggatggcatg acagtaagag aattatgcag tgctgccata accatgagtg ataacactgc\\n     5401 ggccaactta cttctgacaa cgatcggagg accgaaggag ctaaccgctt ttttgcacaa\\n     5461 catgggggat catgtaactc gccttgatcg ttgggaaccg gagctgaatg aagccatacc\\n     5521 aaacgacgag cgtgacacca cgatgcctgt agcaatggca acaacgttgc gcaaactatt\\n     5581 aactggcgaa ctacttactc tagcttcccg gcaacaatta atagactgga tggaggcgga\\n     5641 taaagttgca ggaccacttc tgcgctcggc ccttccggct ggctggttta ttgctgataa\\n     5701 atctggagcc ggtgagcgtg ggtctcgcgg tatcattgca gcactggggc cagatggtaa\\n     5761 gccctcccgt atcgtagtta tctacacgac ggggagtcag gcaactatgg atgaacgaaa\\n     5821 tagacagatc gctgagatag gtgcctcact gattaagcat tggtaactgt cagaccaagt\\n     5881 ttactcatat atactttaga ttgatttaaa acttcatttt taatttaaaa ggatctaggt\\n     5941 gaagatcctt tttgataatc tcatgaccaa aatcccttaa cgtgagtttt cgttccactg\\n     6001 agcgtcagac cccgtagaaa agatcaaagg atcttcttga gatccttttt ttctgcgcgt\\n     6061 aatctgctgc ttgcaaacaa aaaaaccacc gctaccagcg gtggtttgtt tgccggatca\\n     6121 agagctacca actctttttc cgaaggtaac tggcttcagc agagcgcaga taccaaatac\\n     6181 tgttcttcta gtgtagccgt agttaggcca ccacttcaag aactctgtag caccgcctac\\n     6241 atacctcgct ctgctaatcc tgttaccagt ggctgctgcc agtggcgata agtcgtgtct\\n     6301 taccgggttg gactcaagac gatagttacc ggataaggcg cagcggtcgg gctgaacggg\\n     6361 gggttcgtgc acacagccca gcttggagcg aacgacctac accgaactga gatacctaca\\n     6421 gcgtgagcta tgagaaagcg ccacgcttcc cgaagggaga aaggcggaca ggtatccggt\\n     6481 aagcggcagg gtcggaacag gagagcgcac gagggagctt ccagggggaa acgcctggta\\n     6541 tctttatagt cctgtcgggt ttcgccacct ctgacttgag cgtcgatttt tgtgatgctc\\n     6601 gtcagggggg cggagcctat ggaaaaacgc cagcaacgcg gcctttttac ggttcctggc\\n     6661 cttttgctgg ccttttgctc acatgttctt tcctgcgtta tcccctgatt ctgtggataa\\n     6721 ccgtattacc gcctttgagt gagctgatac cgctcgccgc agccgaacga ccgagcgcag\\n     6781 cgagtcagtg agcgaggaag cggaagagcg cccaatacgc aaaccgcctc tccccgcgcg\\n     6841 ttggccgatt cattaatgca gctggcacga caggtttccc gactggaaag cgggcagtga\\n     6901 gcgcaacgca attaatgtga gttagctcac tcattaggca ccccaggctt tacactttat\\n     6961 gcttccggct cgtatgttgt gtggaattgt gagcggataa caatttcaca caggaaacag\\n     7021 ctatgaccat gattacgcca agcttgtgat attgacgaaa ctttttgaca tctaatttat\\n     7081 tctgttccaa caccaatgtt tataaccaag ttttatcttg tttgtctaca tggtatttta\\n     7141 cattcatcta catacatctt tcattggctt tgtacatagt tatcattaca agtctaaaaa\\n     7201 aattcactct tttcttattc aatgtcaatc caagagaaaa gattgtggta atgttgtagg\\n     7261 agcatgttta ataaattact atagcaaatt actttttatt cccaaggtgt ttatctataa\\n     7321 tagttaatat tttagtcgct acataaaatt ttaccaaaga gtacttgtat actaattcta\\n     7381 aatgccttct gacataaaac gcctaggaaa acaaacgcaa acaaggcatc gactttttca\\n     7441 ataaccaacc aaaaaaattt tacattagtc tttttttaat gctgagaaag tctttgctga\\n     7501 tatgccttcc aaccagcttc tctatatctc ttggcttcga caacaggatt acgaccagct\\n     7561 ccatagactc cacgaccaac aatgatgata tcgctaccgc agtttacaat cacttcttca\\n     7621 ggagtacgat attgctgtcc cagcccgtct cctttaacat ccaagccgat accaggggac\\n     7681 atagttatgt agtcgctttg aaggttagga aatcgacgac cagctataaa gccaaagcaa\\n     7741 aaatcggtat gcttctcaaa ccattctaag gttttctctg tgtaggaacc agtagccaaa\\n     7801 gagcctttgg aagacatttc agccaaaagc aagagaccac gtcccaaagg taaaccaact\\n     7861 tctttgaggc cttgtataat accctcgcct ggcactgtat ggcaatttgt gatatgagcc\\n     7921 caagaagcaa ttttgtacac accagatgca tattgtagct tgacggtatt tccaatgtct\\n     7981 gcgaatttgc gatcctcaaa gataagaaaa cgatgctttt tacctaaggc caccagtttt\\n     8041 tctaccatat cctggtcgaa atcctcgaca acgtcaatat gtgtcttgat aacacagaca\\n     8101 tagggtccaa ttttatctac caattctaag atttcggatt tcttcgtcaa atcgaccgcg\\n     8161 actgacaagt tgctttgctt ttcttccatc aaagccaaca attccttggc aatgggattt\\n     8221 ttcatcccct cagctctagc tgaatagctt tgaaatactc tagcatccat aactttgctt\\n     8281 ttaaaccttt aatttcgatc caagcaaaaa agagg\\n//\"\n",
      "}\n",
      "{\n",
      "  \"id\": 0,\n",
      "  \"input\": [],\n",
      "  \"output\": null,\n",
      "  \"type\": \"AddGeneIdSource\",\n",
      "  \"output_name\": null,\n",
      "  \"database_id\": null,\n",
      "  \"repository_id\": \"52691\",\n",
      "  \"repository_name\": \"addgene\",\n",
      "  \"sequence_file_url\": \"https://media.addgene.org/snapgene-media/v2.0.0/sequences/210876/0ad0ffaa-d9b9-48c4-af54-19e87587070e/addgene-plasmid-52691-sequence-210876.gbk\",\n",
      "  \"addgene_sequence_type\": \"addgene-full\"\n",
      "}\n"
     ]
    },
    {
     "name": "stderr",
     "output_type": "stream",
     "text": [
      "/Users/Manu/Documents/Projects/OpenCloning/OpenCloning_backend/.venv/lib/python3.12/site-packages/Bio/GenBank/Scanner.py:1525: BiopythonParserWarning: Attempting to parse malformed locus line:\n",
      "'LOCUS       sequence-210876-        8315 bp DNA     circular SYN 26-AUG-2024\\n'\n",
      "Found locus 'sequence-210876-' size '8315' residue_type 'DNA'\n",
      "Some fields may be wrong.\n",
      "  warnings.warn(\n"
     ]
    }
   ],
   "source": [
    "from opencloning.endpoints.external_import import get_from_repository_id_addgene\n",
    "from opencloning.pydantic_models import AddGeneIdSource\n",
    "\n",
    "# To load the plasmid from AddGene, first we initialize a source\n",
    "addgene_source = AddGeneIdSource(\n",
    "    id=0, # For now, leave a zero here, we will revisit this\n",
    "    repository_id='52691',\n",
    "    repository_name='addgene',\n",
    "    )\n",
    "\n",
    "# Then we use the api endpoint function request_from_addgene (same function called when you make a request)\n",
    "# to fetch the plasmid sequence\n",
    "# Why await? Request functions use asynchronous code, so we need to await the response\n",
    "resp = await get_from_repository_id_addgene(addgene_source)\n",
    "\n",
    "# The return value of endpoints is always a dictionary with keys 'sources' and 'sequences',\n",
    "# which are lists of the respective objects\n",
    "addgene_source = resp['sources'][0]\n",
    "plasmid_seq = resp['sequences'][0]\n",
    "\n",
    "# Let's pretty-print see what we have\n",
    "print(plasmid_seq.model_dump_json(indent=2))\n",
    "print(addgene_source.model_dump_json(indent=2))\n",
    "\n"
   ]
  },
  {
   "cell_type": "markdown",
   "metadata": {},
   "source": [
    "The types of the objects are `AddGeneIdSource` (now updated with extra fields) and `TextFileSequence`, respectively\n",
    "These are the same types you will find in the json data model, but `TextFileSequence` is not very useful if you want to explore the sequence. Let's see how to convert it to a `Dseqrecord` object from [pydna](https://github.com/pydna-group/pydna), which is a subclass of `SeqRecord` from Biopython."
   ]
  },
  {
   "cell_type": "code",
   "execution_count": 18,
   "metadata": {},
   "outputs": [
    {
     "name": "stdout",
     "output_type": "stream",
     "text": [
      "Is circular? True\n",
      "Length: 8315\n",
      "ID: 0\n",
      "Description: Same as pREP42, with better MCS\n",
      "features:\n",
      "\n",
      "type: source\n",
      "location: [0:8315](+)\n",
      "qualifiers:\n",
      "    Key: mol_type, Value: ['other DNA']\n",
      "    Key: organism, Value: ['synthetic DNA construct']\n",
      "\n",
      "\n",
      "type: promoter\n",
      "location: [530:1685](+)\n",
      "qualifiers:\n",
      "    Key: label, Value: ['nmt1 P41 promoter']\n",
      "    Key: note, Value: ['mutant nmt1 promoter from Schizosaccharomyces pombe, conferring medium strength thiamine-repressible expression']\n",
      "\n",
      "\n",
      "type: rep_origin\n",
      "location: [2801:3585](+)\n",
      "qualifiers:\n",
      "    Key: label, Value: ['ars1']\n",
      "    Key: note, Value: ['Schizosaccharomyces pombe autonomously replicating sequence ars1']\n",
      "\n",
      "\n",
      "type: primer_bind\n",
      "location: [3934:3952](-)\n",
      "qualifiers:\n",
      "    Key: label, Value: ['M13 Forward']\n",
      "    Key: note, Value: ['In lacZ gene. Also called M13-F20 or M13 (-21) Forward']\n",
      "\n",
      "\n",
      "type: primer_bind\n",
      "location: [3934:3951](-)\n",
      "qualifiers:\n",
      "    Key: label, Value: ['M13 fwd']\n",
      "    Key: note, Value: ['common sequencing primer, one of multiple similar variants']\n",
      "\n",
      "\n",
      "type: primer_bind\n",
      "location: [3943:3966](-)\n",
      "qualifiers:\n",
      "    Key: label, Value: ['M13/pUC Forward']\n",
      "    Key: note, Value: ['In lacZ gene']\n",
      "\n",
      "\n",
      "type: rep_origin\n",
      "location: [4163:4619](+)\n",
      "qualifiers:\n",
      "    Key: direction, Value: ['RIGHT']\n",
      "    Key: label, Value: ['f1 ori']\n",
      "    Key: note, Value: ['f1 bacteriophage origin of replication; arrow indicates direction of (+) strand synthesis']\n",
      "\n",
      "\n",
      "type: primer_bind\n",
      "location: [4250:4270](-)\n",
      "qualifiers:\n",
      "    Key: label, Value: ['F1ori-R']\n",
      "    Key: note, Value: ['F1 origin, reverse primer']\n",
      "\n",
      "\n",
      "type: primer_bind\n",
      "location: [4460:4482](+)\n",
      "qualifiers:\n",
      "    Key: label, Value: ['F1ori-F']\n",
      "    Key: note, Value: ['F1 origin, forward primer']\n",
      "\n",
      "\n",
      "type: primer_bind\n",
      "location: [4635:4655](-)\n",
      "qualifiers:\n",
      "    Key: label, Value: ['pRS-marker']\n",
      "    Key: note, Value: ['pRS vectors, use to sequence yeast selectable marker']\n",
      "\n",
      "\n",
      "type: primer_bind\n",
      "location: [4754:4777](+)\n",
      "qualifiers:\n",
      "    Key: label, Value: [\"pGEX 3'\"]\n",
      "    Key: note, Value: ['pGEX vectors, reverse primer']\n",
      "\n",
      "\n",
      "type: primer_bind\n",
      "location: [4814:4833](-)\n",
      "qualifiers:\n",
      "    Key: label, Value: ['pBRforEco']\n",
      "    Key: note, Value: ['pBR322 vectors, upsteam of EcoRI site, forward primer']\n",
      "\n",
      "\n",
      "type: promoter\n",
      "location: [4900:5005](+)\n",
      "qualifiers:\n",
      "    Key: gene, Value: ['bla']\n",
      "    Key: label, Value: ['AmpR promoter']\n",
      "\n",
      "\n",
      "type: CDS\n",
      "location: [5005:5866](+)\n",
      "qualifiers:\n",
      "    Key: codon_start, Value: ['1']\n",
      "    Key: gene, Value: ['bla']\n",
      "    Key: label, Value: ['AmpR']\n",
      "    Key: note, Value: ['confers resistance to ampicillin, carbenicillin, and related antibiotics']\n",
      "    Key: product, Value: ['beta-lactamase']\n",
      "    Key: translation, Value: ['MSIQHFRVALIPFFAAFCLPVFAHPETLVKVKDAEDQLGARVGYIELDLNSGKILESFRPEERFPMMSTFKVLLCGAVLSRIDAGQEQLGRRIHYSQNDLVEYSPVTEKHLTDGMTVRELCSAAITMSDNTAANLLLTTIGGPKELTAFLHNMGDHVTRLDRWEPELNEAIPNDERDTTMPVAMATTLRKLLTGELLTLASRQQLIDWMEADKVAGPLLRSALPAGWFIADKSGAGERGSRGIIAALGPDGKPSRIVVIYTTGSQATMDERNRQIAEIGASLIKHW']\n",
      "\n",
      "\n",
      "type: primer_bind\n",
      "location: [5223:5243](-)\n",
      "qualifiers:\n",
      "    Key: label, Value: ['Amp-R']\n",
      "    Key: note, Value: ['Ampicillin resistance gene, reverse primer']\n",
      "\n",
      "\n",
      "type: rep_origin\n",
      "location: [6036:6625](+)\n",
      "qualifiers:\n",
      "    Key: direction, Value: ['RIGHT']\n",
      "    Key: label, Value: ['ori']\n",
      "    Key: note, Value: ['high-copy-number ColE1/pMB1/pBR322/pUC origin of replication']\n",
      "\n",
      "\n",
      "type: primer_bind\n",
      "location: [6525:6545](+)\n",
      "qualifiers:\n",
      "    Key: label, Value: ['pBR322ori-F']\n",
      "    Key: note, Value: ['pBR322 origin, forward primer']\n",
      "\n",
      "\n",
      "type: primer_bind\n",
      "location: [6778:6796](+)\n",
      "qualifiers:\n",
      "    Key: label, Value: ['L4440']\n",
      "    Key: note, Value: ['L4440 vector, forward primer']\n",
      "\n",
      "\n",
      "type: protein_bind\n",
      "location: [6912:6934](+)\n",
      "qualifiers:\n",
      "    Key: bound_moiety, Value: ['E. coli catabolite activator protein']\n",
      "    Key: label, Value: ['CAP binding site']\n",
      "    Key: note, Value: ['CAP binding activates transcription in the presence of cAMP.']\n",
      "\n",
      "\n",
      "type: promoter\n",
      "location: [6948:6979](+)\n",
      "qualifiers:\n",
      "    Key: label, Value: ['lac promoter']\n",
      "    Key: note, Value: ['promoter for the E. coli lac operon']\n",
      "\n",
      "\n",
      "type: protein_bind\n",
      "location: [6986:7003](+)\n",
      "qualifiers:\n",
      "    Key: bound_moiety, Value: ['lac repressor encoded by lacI']\n",
      "    Key: label, Value: ['lac operator']\n",
      "    Key: note, Value: ['The lac repressor binds to the lac operator to inhibit transcription in E. coli. This inhibition can be relieved by adding lactose or isopropyl-beta-D-thiogalactopyranoside (IPTG).']\n",
      "\n",
      "\n",
      "type: primer_bind\n",
      "location: [6991:7014](+)\n",
      "qualifiers:\n",
      "    Key: label, Value: ['M13/pUC Reverse']\n",
      "    Key: note, Value: ['In lacZ gene']\n",
      "\n",
      "\n",
      "type: primer_bind\n",
      "location: [7010:7027](+)\n",
      "qualifiers:\n",
      "    Key: label, Value: ['M13 rev']\n",
      "    Key: note, Value: ['common sequencing primer, one of multiple similar variants']\n",
      "\n",
      "\n",
      "type: primer_bind\n",
      "location: [7010:7027](+)\n",
      "qualifiers:\n",
      "    Key: label, Value: ['M13 Reverse']\n",
      "    Key: note, Value: ['In lacZ gene. Also called M13-rev']\n",
      "\n",
      "\n",
      "type: CDS\n",
      "location: [7475:8270](-)\n",
      "qualifiers:\n",
      "    Key: codon_start, Value: ['1']\n",
      "    Key: gene, Value: ['Schizosaccharomyces pombe ura4']\n",
      "    Key: label, Value: ['S. pombe ura4']\n",
      "    Key: product, Value: [\"orotidine 5'-phosphate decarboxylase, required for uracil biosynthesis\"]\n",
      "    Key: translation, Value: ['MDARVFQSYSARAEGMKNPIAKELLALMEEKQSNLSVAVDLTKKSEILELVDKIGPYVCVIKTHIDVVEDFDQDMVEKLVALGKKHRFLIFEDRKFADIGNTVKLQYASGVYKIASWAHITNCHTVPGEGIIQGLKEVGLPLGRGLLLLAEMSSKGSLATGSYTEKTLEWFEKHTDFCFGFIAGRRFPNLQSDYITMSPGIGLDVKGDGLGQQYRTPEEVIVNCGSDIIIVGRGVYGAGRNPVVEAKRYREAGWKAYQQRLSQH']\n",
      "\n"
     ]
    }
   ],
   "source": [
    "from opencloning.dna_functions import read_dsrecord_from_json\n",
    "\n",
    "plasmid_seq_pydna = read_dsrecord_from_json(plasmid_seq)\n",
    "\n",
    "# You can do things like:\n",
    "\n",
    "print('Is circular?', plasmid_seq_pydna.circular)\n",
    "print('Length:', len(plasmid_seq_pydna))\n",
    "print('ID:', plasmid_seq_pydna.id)\n",
    "print('Description:', plasmid_seq_pydna.description)\n",
    "print('features:')\n",
    "for feature in plasmid_seq_pydna.features:\n",
    "    print()\n",
    "    print(feature)\n"
   ]
  },
  {
   "cell_type": "markdown",
   "metadata": {},
   "source": [
    "### Getting the locus sequence\n",
    "\n",
    "This assumes you know the coordinates of the locus. You can get that using the OpenCloning website, or automate this using the [NCBI datasets API](https://www.ncbi.nlm.nih.gov/datasets/docs/v2/api/rest-api/)."
   ]
  },
  {
   "cell_type": "code",
   "execution_count": 19,
   "metadata": {},
   "outputs": [
    {
     "name": "stdout",
     "output_type": "stream",
     "text": [
      "{\n",
      "  \"id\": 0,\n",
      "  \"type\": \"TextFileSequence\",\n",
      "  \"sequence_file_format\": \"genbank\",\n",
      "  \"overhang_crick_3prime\": 0,\n",
      "  \"overhang_watson_3prime\": 0,\n",
      "  \"file_content\": \"LOCUS       NC_001147               4658 bp    DNA     linear   CON 05-MAR-2025\\nDEFINITION  Saccharomyces cerevisiae S288C chromosome XV, complete sequence.\\nACCESSION   NC_001147\\nVERSION     NC_001147.6\\nDBLINK      BioProject: PRJNA128\\n            Assembly: GCF_000146045.2\\nKEYWORDS    RefSeq.\\nSOURCE      Saccharomyces cerevisiae S288C\\n  ORGANISM  Saccharomyces cerevisiae S288C\\n            Eukaryota; Fungi; Dikarya; Ascomycota; Saccharomycotina;\\n            Saccharomycetes; Saccharomycetales; Saccharomycetaceae;\\n            Saccharomyces.\\nREFERENCE   1  (bases 1 to 4658)\\n  AUTHORS   Engel,S.R., Wong,E.D., Nash,R.S., Aleksander,S., Alexander,M.,\\n            Douglass,E., Karra,K., Miyasato,S.R., Simison,M., Skrzypek,M.S.,\\n            Weng,S. and Cherry,J.M.\\n  TITLE     New data and collaborations at the Saccharomyces Genome Database:\\n            updated reference genome, alleles, and the Alliance of Genome\\n            Resources\\n  JOURNAL   Genetics 220 (4) (2022)\\n   PUBMED   34897464\\nREFERENCE   2  (bases 1 to 4658)\\n  AUTHORS   Dujon,B., Albermann,K., Aldea,M., Alexandraki,D., Ansorge,W.,\\n            Arino,J., Benes,V., Bohn,C., Bolotin-Fukuhara,M., Bordonne,R.,\\n            Boyer,J., Camasses,A., Casamayor,A., Casas,C., Cheret,G.,\\n            Cziepluch,C., Daignan-Fornier,B., Dang,D.V., de Haan,M., Delius,H.,\\n            Durand,P., Fairhead,C., Feldmann,H., Gaillon,L., Kleine,K. et al.\\n  TITLE     The nucleotide sequence of Saccharomyces cerevisiae chromosome XV\\n  JOURNAL   Nature 387 (6632 SUPPL), 98-102 (1997)\\n   PUBMED   9169874\\nREFERENCE   3  (bases 1 to 4658)\\n  AUTHORS   Goffeau,A., Barrell,B.G., Bussey,H., Davis,R.W., Dujon,B.,\\n            Feldmann,H., Galibert,F., Hoheisel,J.D., Jacq,C., Johnston,M.,\\n            Louis,E.J., Mewes,H.W., Murakami,Y., Philippsen,P., Tettelin,H. and\\n            Oliver,S.G.\\n  TITLE     Life with 6000 genes\\n  JOURNAL   Science 274 (5287), 546 (1996)\\n   PUBMED   8849441\\nREFERENCE   4  (bases 1 to 4658)\\n  CONSRTM   NCBI Genome Project\\n  TITLE     Direct Submission\\n  JOURNAL   Submitted (05-MAR-2025) National Center for Biotechnology\\n            Information, NIH, Bethesda, MD 20894, USA\\nREFERENCE   5  (bases 1 to 4658)\\n  CONSRTM   Saccharomyces Genome Database\\n  TITLE     Direct Submission\\n  JOURNAL   Submitted (16-JAN-2015) Department of Genetics, Stanford University,\\n            Stanford, CA 94305-5120, USA\\n  REMARK    Protein update by submitter\\nREFERENCE   6  (bases 1 to 4658)\\n  CONSRTM   Saccharomyces Genome Database\\n  TITLE     Direct Submission\\n  JOURNAL   Submitted (04-MAY-2012) Department of Genetics, Stanford University,\\n            Stanford, CA 94305-5120, USA\\n  REMARK    Protein update by submitter\\nREFERENCE   7  (bases 1 to 4658)\\n  CONSRTM   Saccharomyces Genome Database\\n  TITLE     Direct Submission\\n  JOURNAL   Submitted (31-MAR-2011) Department of Genetics, Stanford University,\\n            Stanford, CA 94305-5120, USA\\n  REMARK    Sequence update by submitter\\nREFERENCE   8  (bases 1 to 4658)\\n  CONSRTM   Saccharomyces Genome Database\\n  TITLE     Direct Submission\\n  JOURNAL   Submitted (27-MAY-2010) Department of Genetics, Stanford University,\\n            Stanford, CA 94305-5120, USA\\n  REMARK    Protein update by submitter\\nREFERENCE   9  (bases 1 to 4658)\\n  CONSRTM   Saccharomyces Genome Database\\n  TITLE     Direct Submission\\n  JOURNAL   Submitted (14-DEC-2009) Department of Genetics, Stanford University,\\n            Stanford, CA 94305-5120, USA\\nCOMMENT     ##Genome-Annotation-Data-START##\\n            Annotation Provider :: SGD\\n            Annotation Status   :: Full Annotation\\n            Annotation Version  :: R64-4-1\\n            URL                 :: http://www.yeastgenome.org/\\n            ##Genome-Annotation-Data-END##\\n            REVIEWED REFSEQ: This record has been curated by SGD. The reference\\n            sequence is identical to BK006948.\\n            On Apr 26, 2011 this sequence version replaced NC_001147.5.\\nFEATURES             Location/Qualifiers\\n     source          1..4658\\n                     /organism=\\\"Saccharomyces cerevisiae S288C\\\"\\n                     /mol_type=\\\"genomic DNA\\\"\\n                     /strain=\\\"S288C\\\"\\n                     /db_xref=\\\"taxon:559292\\\"\\n                     /chromosome=\\\"XV\\\"\\n     gene            <1001..>3658\\n                     /gene=\\\"ASE1\\\"\\n                     /locus_tag=\\\"YOR058C\\\"\\n                     /gene_synonym=\\\"YOR29-09\\\"\\n                     /db_xref=\\\"GeneID:854223\\\"\\n     mRNA            <1001..>3658\\n                     /gene=\\\"ASE1\\\"\\n                     /locus_tag=\\\"YOR058C\\\"\\n                     /gene_synonym=\\\"YOR29-09\\\"\\n                     /product=\\\"Ase1p\\\"\\n                     /transcript_id=\\\"NM_001183477.1\\\"\\n                     /db_xref=\\\"GeneID:854223\\\"\\n     CDS             1001..3658\\n                     /gene=\\\"ASE1\\\"\\n                     /locus_tag=\\\"YOR058C\\\"\\n                     /gene_synonym=\\\"YOR29-09\\\"\\n                     /experiment=\\\"EXISTENCE:direct assay:GO:0001578 microtubule\\n                     bundle formation [PMID:12591913]\\\"\\n                     /experiment=\\\"EXISTENCE:direct assay:GO:0005737 cytoplasm\\n                     [PMID:22842922]\\\"\\n                     /experiment=\\\"EXISTENCE:direct assay:GO:0005874 microtubule\\n                     [PMID:22842922]\\\"\\n                     /experiment=\\\"EXISTENCE:direct assay:GO:0005880 nuclear\\n                     microtubule [PMID:7559759]\\\"\\n                     /experiment=\\\"EXISTENCE:direct assay:GO:0008017 microtubule\\n                     binding [PMID:12591913]\\\"\\n                     /experiment=\\\"EXISTENCE:direct assay:GO:0072686 mitotic\\n                     spindle [PMID:7559759]\\\"\\n                     /experiment=\\\"EXISTENCE:direct assay:GO:1990023 mitotic\\n                     spindle midzone [PMID:7559759]\\\"\\n                     /experiment=\\\"EXISTENCE:genetic interaction:GO:0000022\\n                     mitotic spindle elongation [PMID:7559759]\\\"\\n                     /experiment=\\\"EXISTENCE:genetic interaction:GO:0000073\\n                     initial mitotic spindle pole body separation\\n                     [PMID:16688214]\\\"\\n                     /experiment=\\\"EXISTENCE:mutant phenotype:GO:0000022 mitotic\\n                     spindle elongation [PMID:12591913|PMID:7559759]\\\"\\n                     /experiment=\\\"EXISTENCE:mutant phenotype:GO:0000920 septum\\n                     digestion after cytokinesis [PMID:16615892]\\\"\\n                     /experiment=\\\"EXISTENCE:mutant phenotype:GO:0007052 mitotic\\n                     spindle organization [PMID:9036857]\\\"\\n                     /experiment=\\\"EXISTENCE:mutant phenotype:GO:0051255 spindle\\n                     midzone assembly [PMID:17562791]\\\"\\n                     /note=\\\"Mitotic spindle midzone-localized microtubule\\n                     bundling protein; microtubule-associated protein (MAP)\\n                     family member; required for anaphase spindle elongation and\\n                     stabilization; selectively increases the lifetime of\\n                     antiparallel microtubule overlaps; undergoes cell\\n                     cycle-regulated degradation by anaphase promoting complex;\\n                     potential Cdc28p substrate; relative distribution to\\n                     microtubules decreases upon DNA replication stress\\\"\\n                     /codon_start=1\\n                     /product=\\\"Ase1p\\\"\\n                     /protein_id=\\\"NP_116582.1\\\"\\n                     /db_xref=\\\"GeneID:854223\\\"\\n                     /db_xref=\\\"SGD:S000005584\\\"\\n                     /translation=\\\"METATSSPLPIKSRRNSENSGSTTVIPHMNPSLATPLTVSTMVNQ\\n                     SNSKEFMKLTPVRIRDFGSPLKNVSTNYHFLDSENGKGNTMDNMYRENFILISKDLEKL\\n                     LENLNVIYQNIGYSNTEIITKEKIIFTTISNSIKQFFEQADEELKRLSAENGIEQDILN\\n                     NILERINDPSGIKTIPDLYIRNAILLQESKTVPQSPKKPLSLLSKKAALDTAKKFVLGS\\n                     FLPRLRDYLKSLITLKHLIQSVKENLPGLTEADNEAIAEFPELSTLTAYLLQIENGKGD\\n                     IGLSMKFIIDNRKDILKGSAFKTINEESVKHMNEVIKIYEEEYERRFKSVLTKKVSISS\\n                     ICEQLGTPLATLIGEDFEQDLRSYGEEENSTSEIPNFHPVDRERMSKIDITLEKLQAIH\\n                     KERADKKRLLMEQCQKLWTRLKISQEYIKTFMRNNSSLSTESLGRISKEVMRLEAMKKK\\n                     LIKKLISDSWDKIQELWRTLQYSEESRSKFIIVFEELRNSATTLQEDELLLETCENELK\\n                     RLEEKLTLYKPILKLISDFESLQEDQEFLERSSKDSSRLLSRNSHKILLTEEKMRKRIT\\n                     RHFPRVINDLRIKLEEADGLFDQPFLFKGKPLSEAIDIQQQEIEAKYPRCRVRMQRSKK\\n                     GKCGANKENKVIKNTFKATESSIRVPIGLNLNDANITYKTPSKKTIQGLTKNDLSQENS\\n                     LARHMQGTTKLSSPNRRATRLLAPTVISRNSKGNIERPTLNRNRSSDLSSSPRINHTHG\\n                     EHAVKPRQLFPIPLNKVDTKGSHIPQLTKEKALELLKRSTGTTGKENVRSPERKSSLED\\n                     YAQKLSSPYKEPEHSIYKLSMSPEGKFQLNIQQKDIESGFDDTSMMEDENDKDFITWKN\\n                     EQVSKLNGFSFTDI\\\"\\n     gene            complement(<3973..>4658)\\n                     /gene=\\\"SGT1\\\"\\n                     /locus_tag=\\\"YOR057W\\\"\\n                     /db_xref=\\\"GeneID:854222\\\"\\n     mRNA            complement(<3973..>4658)\\n                     /gene=\\\"SGT1\\\"\\n                     /locus_tag=\\\"YOR057W\\\"\\n                     /product=\\\"co-chaperone SGT1\\\"\\n                     /transcript_id=\\\"NM_001183476.1\\\"\\n                     /db_xref=\\\"GeneID:854222\\\"\\n     CDS             complement(3973..>4658)\\n                     /gene=\\\"SGT1\\\"\\n                     /locus_tag=\\\"YOR057W\\\"\\n                     /experiment=\\\"EXISTENCE:direct assay:GO:0000151 ubiquitin\\n                     ligase complex [PMID:10445024]\\\"\\n                     /experiment=\\\"EXISTENCE:direct assay:GO:0005783 endoplasmic\\n                     reticulum [PMID:34192536]\\\"\\n                     /experiment=\\\"EXISTENCE:direct assay:GO:0005829 cytosol\\n                     [PMID:34192536]\\\"\\n                     /experiment=\\\"EXISTENCE:direct assay:GO:0006515 protein\\n                     quality control for misfolded or incompletely synthesized\\n                     proteins [PMID:34192536]\\\"\\n                     /experiment=\\\"EXISTENCE:direct assay:GO:0030674\\n                     protein-macromolecule adaptor activity [PMID:16945921]\\\"\\n                     /experiment=\\\"EXISTENCE:direct assay:GO:0051087\\n                     protein-folding chaperone binding\\n                     [PMID:34192536|PMID:16945921]\\\"\\n                     /experiment=\\\"EXISTENCE:direct assay:GO:0051382 kinetochore\\n                     assembly [PMID:10445024]\\\"\\n                     /experiment=\\\"EXISTENCE:direct assay:GO:0065003\\n                     protein-containing complex assembly [PMID:15090617]\\\"\\n                     /note=\\\"Cochaperone protein; regulates activity of adenylyl\\n                     cyclase Cyr1p; involved in kinetochore complex assembly;\\n                     associates with the SCF (Skp1p/Cdc53p/F box protein)\\n                     ubiquitin ligase complex; acts as a linker between Skp1p\\n                     and HSP90 complexes; protein abundance increases in\\n                     response to DNA replication stress\\\"\\n                     /codon_start=3\\n                     /product=\\\"co-chaperone SGT1\\\"\\n                     /protein_id=\\\"NP_014700.1\\\"\\n                     /db_xref=\\\"GeneID:854222\\\"\\n                     /db_xref=\\\"SGD:S000005583\\\"\\n                     /translation=\\\"MPVEKDLKTAYKALYDEKEPLKALHLYDEILKGSPTNLTALIFKA\\n                     ACLEKLYFGFSDWHSDATMENAKELLDKALMTAEGRGDRSKIGLVNFRYFVHFFNIKDY\\n                     ELAQSYFKKAKNLGYVDDTLPLWEDRLETKLNKKNKKQKDSTNKHTIKPVESIENRGDN\\n                     NSSHSPISPLKIETAPQESPKFKIDWYQSSTSVTISLFTVNLPESKEQVNIYISPNDRR\\n                     TLSISYQVPKSGSEFQYNAKLSHEVDPKAVSLKIFPKKLEITLSKIDSTQWKKLEEDIL\\n                     TESSRLSDEGKNSDSATRLLSAETASKERLSYPSSSKKKIDWSKLDIDEEADEEAGSAD\\n                     SFFQKLYAGADPDTKRAMMKSFIESNGTALSTDWEDVSKGTVKTSPPEGMEPKHW\\\"\\nORIGIN\\n        1 gaattcagtt gcttacgcca gtaatactgt ggtagaagaa atattacttg gtattcaagc\\n       61 catctacgag gaaggaaaat ttataaaaaa cacgagtaca ataacacgaa gggaataaat\\n      121 aaaaatgtca tatgttcata acaagtgcac agatcgccct gctgattatg ttacggataa\\n      181 caagatagaa tatcctttgg agctcgacaa ttctacatag tattatattt ttctcttctt\\n      241 cttttctttg ttcatttcca ttgtcatatt tacgtatttg ctgatgattg ttggcattcc\\n      301 ataatataga taacattatg ataataattt cgtctaacaa tctgtatcat cttatcaaac\\n      361 catacatagc aatatactac tgatttaaaa ccagctaata caagatattt gatctctatt\\n      421 tcaaacaaag gattttaaat gttcttcaat atggtcttct tttttcattt attttttttg\\n      481 attaatattt tgttgaaaag taaaagtttt gagacatgca acttgtattt ctcagaagtg\\n      541 aataaaaata aatatatgag atttaagata gaaaaaacaa atcatcttta aaaactttct\\n      601 ttcctagtat agccactttt tatagttaca attgtaaaga actgcctata aacaataagt\\n      661 ctgtctgcca tatctacgtt attatttaat ttcactaaat aaccgcccag aaaatcgtac\\n      721 agtgtgattt tctttcgtca tctaatattt cccaatgagg taaaaggtaa ataagcttga\\n      781 gaatctttaa gaggaaacaa atacaaaaat attattaaag tcgaatacct ggttttttca\\n      841 cagaacaata gcaaagatac gaacaaacgg ctattaccga gaataattat tttaaggact\\n      901 aattagagca ttttaatagg ctatttttaa tcatcagata tagcattctg gcattagaat\\n      961 tcaaaggttt cattttggat tcactacttt tgatgttgaa atggagacag caacttcttc\\n     1021 ccctttgccc attaaatcga ggagaaacag cgaaaattct gggtctacta cagttatacc\\n     1081 gcatatgaac ccttctttag caacaccgtt gactgtgtcg accatggtaa atcaatcaaa\\n     1141 ttctaaagag tttatgaagt tgaccccagt tcgtattaga gattttggtt ctcctttgaa\\n     1201 aaacgtgtcc actaattacc attttttaga ctcagaaaat ggtaaaggta acacaatgga\\n     1261 taatatgtat agagaaaatt tcattcttat ttcaaaggat ctagagaaat tactggagaa\\n     1321 tctcaatgtc atatatcaaa atattgggta ttctaatacg gaaattatca ccaaggagaa\\n     1381 aatcatattc accactatat ctaattccat aaaacaattt tttgagcaag ctgacgaaga\\n     1441 attgaaaaga ctgtccgcag agaacggaat tgaacaggat attctaaata acattctaga\\n     1501 gagaataaat gacccaagtg gcataaagac tattcctgac ttatacatta gaaatgctat\\n     1561 tctactgcaa gaaagtaaaa ctgtgccaca gtcaccgaaa aagccacttt ccttactaag\\n     1621 caaaaaagca gcattagata cagcaaaaaa atttgtccta ggaagttttt tacccaggct\\n     1681 ccgcgactat ttaaaatcct taatcactct aaaacacctc atacaatctg taaaagaaaa\\n     1741 ccttcctgga ttgacagaag cagataacga ggctatcgcc gagtttccag aattaagcac\\n     1801 attaaccgca tatttgttac aaatagaaaa tggtaaaggc gatattggtt tgtccatgaa\\n     1861 atttattata gataatagaa aagatatttt aaagggatcg gcatttaaaa ctattaacga\\n     1921 agaatctgtg aaacacatga atgaagtcat aaaaatttac gaggaagaat acgagaggag\\n     1981 gtttaaaagc gtactcacaa aaaaggttag tatttcatca atatgtgaac aacttggaac\\n     2041 tcccctagca acgttaatcg gtgaagattt tgaacaagat ctaagatcat atggagaaga\\n     2101 ggaaaactcc acatcagaaa taccaaattt ccacccggta gacagagaaa gaatgtctaa\\n     2161 aattgatatt acattggaaa aactgcaagc tatccataag gaaagagcag acaaaaagag\\n     2221 gctcctgatg gaacaatgcc aaaaactttg gacaaggcta aaaatttctc aagaatacat\\n     2281 aaagactttt atgcgtaaca attcaagttt atcaaccgag tccttaggta gaatctctaa\\n     2341 agaagttatg cgacttgaag caatgaaaaa aaaactaata aaaaaactta tatcagattc\\n     2401 ctgggacaaa attcaggaat tgtggcgtac gttacagtat tcagaagaaa gtcggtctaa\\n     2461 attcatcatt gtatttgaag aactaaggaa cagtgcaaca actttacagg aagatgagct\\n     2521 tcttctagaa acttgcgaaa atgagctaaa aagactagaa gaaaaactga ccctttataa\\n     2581 gccaatttta aaattaatat cagattttga atctttacaa gaagatcaag aatttttgga\\n     2641 aagaagttca aaagactctt cacggctttt gtctagaaat tctcataaga tattactaac\\n     2701 tgaagaaaaa atgaggaaaa ggataacaag acactttcct cgagtcatca atgatttaag\\n     2761 aattaaatta gaagaggccg atggtctatt tgatcaacct tttttgttca aaggtaagcc\\n     2821 actttcagaa gcaattgaca ttcagcaaca ggaaatcgaa gcaaaatatc caagatgtag\\n     2881 agttagaatg cagagatcta aaaagggaaa atgtggtgcg aacaaagaga ataaagtcat\\n     2941 aaaaaacact ttcaaggcca cagaaagttc catcagggta ccgattggtt tgaatttaaa\\n     3001 tgatgccaac attacttata aaacgccttc aaagaaaaca atacaaggct taacaaagaa\\n     3061 tgatctatcc caagagaact cgcttgctcg tcatatgcaa ggaacaacga agttatctag\\n     3121 tccgaacaga agagcaacaa gattactagc acccacagta atatctagga attccaaagg\\n     3181 gaatatagag agacctacct taaacagaaa cagatcatcc gatctttcat catcgcctag\\n     3241 gataaatcat acgcatggcg aacatgcagt aaaaccacgc caattgtttc ctatcccgct\\n     3301 gaacaaagtc gacactaagg gtagtcatat ccctcaatta actaaagaaa aggctttaga\\n     3361 acttcttaaa aggtcgactg gcaccacggg taaggagaat gtacgaagcc cggaacgcaa\\n     3421 aagctcatta gaagattacg cacaaaaatt gagcagtcct tataaagaac ctgagcacag\\n     3481 catatataaa ctttccatgt cgccagaagg taaatttcaa ttaaacattc aacaaaaaga\\n     3541 tattgaaagc ggatttgatg ataccagtat gatggaagat gaaaatgata aggattttat\\n     3601 tacatggaaa aatgagcaag tttcgaaatt gaatggattc tcctttacag atatttgaat\\n     3661 ttcttaaaag cgcattcatt taaccctctg atctcttatt tatttttttt gtggtttttt\\n     3721 ttttcacatc actttctagc cttcgctaca ttgtctcttt ctttccttct tttattctat\\n     3781 cattctccct ttcctttttc cattgcaccg tgactctgga ttaatatgga cataataaaa\\n     3841 tttgtaatat tcaatataat catgtaagca ttccaagtaa atacgcaggt tggctagtct\\n     3901 aaatcgaaaa tgtaacatta ctaccatact atatatctac atattgtaat tgtgtaggta\\n     3961 tatactaatc atttaccaat gtttaggttc catgccttct ggtggtgaag ttttaaccgt\\n     4021 tcccttagat acgtcttccc agtctgtact caatgcagta ccattacttt ctataaagga\\n     4081 tttcatcata gcccttttgg tatctggatc cgctccagcg taaagctttt gaaagaaact\\n     4141 atcagccgat cccgcttctt catcagcttc ttcatcaatg tcaagtttag accaatctat\\n     4201 ttttttttta gaggacgatg gataagacaa tctctctttt gatgccgttt ctgctgataa\\n     4261 taagcgggtt gcagaatcag aatttttacc ctcatctgat aaccttgagg attccgttaa\\n     4321 aatatcttct tccaacttct tccattgcgt gctatcaatt ttgctcaagg taatttccag\\n     4381 cttttttggg aaaattttta atgacactgc ttttggatcc acctcatgcg aaagcttagc\\n     4441 gttgtattga aattcagatc cagatttcgg tacttggtac gatatcgata aagttcttct\\n     4501 atcgtttgga gaaatatata tattgacttg ttccttagac tcaggaagat taacagtaaa\\n     4561 taatgatata gtgacagagg tgctggattg ataccaatcg attttaaatt taggggattc\\n     4621 ttgaggagcg gtttcaattt tgagaggtga aatgggac\\n//\"\n",
      "}\n",
      "{\n",
      "  \"id\": 0,\n",
      "  \"input\": [],\n",
      "  \"output\": null,\n",
      "  \"type\": \"GenomeCoordinatesSource\",\n",
      "  \"output_name\": null,\n",
      "  \"database_id\": null,\n",
      "  \"assembly_accession\": \"GCF_000146045.2\",\n",
      "  \"sequence_accession\": \"NC_001147.6\",\n",
      "  \"locus_tag\": \"YOR058C\",\n",
      "  \"gene_id\": 854223,\n",
      "  \"start\": 432688,\n",
      "  \"end\": 437345,\n",
      "  \"strand\": -1\n",
      "}\n"
     ]
    }
   ],
   "source": [
    "from opencloning.endpoints.external_import import genome_coordinates\n",
    "from opencloning.pydantic_models import GenomeCoordinatesSource\n",
    "\n",
    "locus_source = GenomeCoordinatesSource(\n",
    "    id= 0,\n",
    "    type= \"GenomeCoordinatesSource\",\n",
    "    assembly_accession= \"GCF_000146045.2\",\n",
    "    sequence_accession= \"NC_001147.6\",\n",
    "    locus_tag= \"YOR058C\",\n",
    "    gene_id= 854223,\n",
    "    start= 432688,\n",
    "    end= 437345,\n",
    "    strand= -1\n",
    ")\n",
    "\n",
    "resp = await genome_coordinates(locus_source)\n",
    "\n",
    "locus_seq = resp['sequences'][0]\n",
    "locus_source = resp['sources'][0]\n",
    "\n",
    "# Let's pretty-print see what we have\n",
    "print(locus_seq.model_dump_json(indent=2))\n",
    "print(locus_source.model_dump_json(indent=2))\n"
   ]
  },
  {
   "cell_type": "markdown",
   "metadata": {},
   "source": [
    "### Loading a file"
   ]
  },
  {
   "cell_type": "code",
   "execution_count": 22,
   "metadata": {},
   "outputs": [
    {
     "name": "stdout",
     "output_type": "stream",
     "text": [
      "{\n",
      "  \"id\": 0,\n",
      "  \"type\": \"TextFileSequence\",\n",
      "  \"sequence_file_format\": \"genbank\",\n",
      "  \"overhang_crick_3prime\": 0,\n",
      "  \"overhang_watson_3prime\": 0,\n",
      "  \"file_content\": \"LOCUS       pFA6a-hphMX6            4157 bp    DNA     circular SYN 24-DEC-2013\\nDEFINITION  Plasmid for yeast gene deletion using the hphMX6 selectable marker\\n            conferring hygromycin resistance.\\nACCESSION   .\\nVERSION     .\\nKEYWORDS    pFA6a-hphMX6.\\nSOURCE      synthetic DNA construct\\n  ORGANISM  synthetic DNA construct\\n            .\\nREFERENCE   1  (bases 1 to 4157)\\n  AUTHORS   Hentges P, Van Driessche B, Tafforeau L, Vandenhaute J, Carr AM.\\n  TITLE     Three novel antibiotic marker cassettes for gene disruption and\\n            marker switching in Schizosaccharomyces pombe.\\n  JOURNAL   Yeast 2005;22:1013-9.\\n   PUBMED   16200533\\nREFERENCE   2  (bases 1 to 4157)\\n  AUTHORS   EUROSCARF\\n  TITLE     Direct Submission\\n  JOURNAL   Exported Thursday, Feb 4, 2021 from SnapGene 5.2.4\\n            https://www.snapgene.com\\nCOMMENT     SGRef: number: 1; type: \\\"Journal Article\\\"; journalName: \\\"Yeast\\\";\\n            date: \\\"2005\\\"; volume: \\\"22\\\"; pages: \\\"1013-9\\\"\\nFEATURES             Location/Qualifiers\\n     source          1..4157\\n                     /organism=\\\"synthetic DNA construct\\\"\\n                     /lab_host=\\\"Schizosaccharomyces pombe\\\"\\n                     /mol_type=\\\"other DNA\\\"\\n     primer_bind     40..59\\n                     /label=\\\"F1\\\"\\n                     /note=\\\"Forward primer for gene deletion. This primer\\n                     includes a BamHI recognition sequence. A gene-specific\\n                     sequence should be added at the 5' end of the primer.\\\"\\n     gene            113..1688\\n                     /label=\\\"hphMX6\\\"\\n                     /note=\\\"yeast selectable marker conferring hygromycin\\n                     resistance\\\"\\n     promoter        113..456\\n                     /label=\\\"TEF promoter\\\"\\n                     /note=\\\"Ashbya gossypii TEF promoter\\\"\\n     CDS             457..1485\\n                     /codon_start=1\\n                     /gene=\\\"aph(4)-Ia\\\"\\n                     /product=\\\"aminoglycoside phosphotransferase from E. coli\\\"\\n                     /label=\\\"HygR\\\"\\n                     /note=\\\"confers resistance to hygromycin\\\"\\n                     /translation=\\\"MGKKPELTATSVEKFLIEKFDSVSDLMQLSEGEESRAFSFDVGGR\\n                     GYVLRVNSCADGFYKDRYVYRHFASAALPIPEVLDIGEFSESLTYCISRRAQGVTLQDL\\n                     PETELPAVLQPVAEAMDAIAAADLSQTSGFGPFGPQGIGQYTTWRDFICAIADPHVYHW\\n                     QTVMDDTVSASVAQALDELMLWAEDCPEVRHLVHADFGSNNVLTDNGRITAVIDWSEAM\\n                     FGDSQYEVANIFFWRPWLACMEQQTRYFERRHPELAGSPRLRAYMLRIGLDQLYQSLVD\\n                     GNFDDAAWAQGRCDAIVRSGAGTVGRTQIARRSAAVWTDGCVEVLADSGNRRPSTRPRA\\n                     KE\\\"\\n     terminator      1491..1688\\n                     /label=\\\"TEF terminator\\\"\\n                     /note=\\\"Ashbya gossypii TEF terminator\\\"\\n     primer_bind     complement(1719..1738)\\n                     /label=\\\"R1\\\"\\n                     /note=\\\"Reverse primer for gene deletion or C-terminal\\n                     tagging. This primer includes an EcoRI recognition\\n                     sequence. A gene-specific sequence should be added at the\\n                     5' end of the primer.\\\"\\n     promoter        complement(1793..1811)\\n                     /label=\\\"T7 promoter\\\"\\n                     /note=\\\"promoter for bacteriophage T7 RNA polymerase\\\"\\n     rep_origin      complement(2069..2657)\\n                     /direction=LEFT\\n                     /label=\\\"ori\\\"\\n                     /note=\\\"high-copy-number ColE1/pMB1/pBR322/pUC origin of\\n                     replication\\\"\\n     CDS             complement(2828..3688)\\n                     /codon_start=1\\n                     /gene=\\\"bla\\\"\\n                     /product=\\\"beta-lactamase\\\"\\n                     /label=\\\"AmpR\\\"\\n                     /note=\\\"confers resistance to ampicillin, carbenicillin, and\\n                     related antibiotics\\\"\\n                     /translation=\\\"MSIQHFRVALIPFFAAFCLPVFAHPETLVKVKDAEDQLGARVGYI\\n                     ELDLNSGKILESFRPEERFPMMSTFKVLLCGAVLSRIDAGQEQLGRRIHYSQNDLVEYS\\n                     PVTEKHLTDGMTVRELCSAAITMSDNTAANLLLTTIGGPKELTAFLHNMGDHVTRLDRW\\n                     EPELNEAIPNDERDTTMPVAMATTLRKLLTGELLTLASRQQLIDWMEADKVAGPLLRSA\\n                     LPAGWFIADKSGAGERGSRGIIAALGPDGKPSRIVVIYTTGSQATMDERNRQIAEIGAS\\n                     LIKHW\\\"\\n     promoter        complement(3689..3793)\\n                     /gene=\\\"bla\\\"\\n                     /label=\\\"AmpR promoter\\\"\\n     promoter        4139..4157\\n                     /label=\\\"SP6 promoter\\\"\\n                     /note=\\\"promoter for bacteriophage SP6 RNA polymerase\\\"\\nORIGIN\\n        1 acgcggccgc cagctgaagc ttcgtacgct gcaggtcgac ggatccccgg gttaattaag\\n       61 gcgcgccaga tctgtttagc ttgcctcgtc cccgccgggt cacccggcca gcgacatgga\\n      121 ggcccagaat accctccttg acagtcttga cgtgcgcagc tcaggggcat gatgtgactg\\n      181 tcgcccgtac atttagccca tacatcccca tgtataatca tttgcatcca tacattttga\\n      241 tggccgcacg gcgcgaagca aaaattacgg ctcctcgctg cagacctgcg agcagggaaa\\n      301 cgctcccctc acagacgcgt tgaattgtcc ccacgccgcg cccctgtaga gaaatataaa\\n      361 aggttaggat ttgccactga ggttcttctt tcatatactt ccttttaaaa tcttgctagg\\n      421 atacagttct cacatcacat ccgaacataa acaaccatgg gtaaaaagcc tgaactcacc\\n      481 gcgacgtctg tcgagaagtt tctgatcgaa aagttcgaca gcgtctccga cctgatgcag\\n      541 ctctcggagg gcgaagaatc tcgtgctttc agcttcgatg taggagggcg tggatatgtc\\n      601 ctgcgggtaa atagctgcgc cgatggtttc tacaaagatc gttatgttta tcggcacttt\\n      661 gcatcggccg cgctcccgat tccggaagtg cttgacattg gggaattcag cgagagcctg\\n      721 acctattgca tctcccgccg tgcacagggt gtcacgttgc aagacctgcc tgaaaccgaa\\n      781 ctgcccgctg ttctgcagcc ggtcgcggag gccatggatg cgatcgctgc ggccgatctt\\n      841 agccagacga gcgggttcgg cccattcgga ccgcaaggaa tcggtcaata cactacatgg\\n      901 cgtgatttca tatgcgcgat tgctgatccc catgtgtatc actggcaaac tgtgatggac\\n      961 gacaccgtca gtgcgtccgt cgcgcaggct ctcgatgagc tgatgctttg ggccgaggac\\n     1021 tgccccgaag tccggcacct cgtgcacgcg gatttcggct ccaacaatgt cctgacggac\\n     1081 aatggccgca taacagcggt cattgactgg agcgaggcga tgttcgggga ttcccaatac\\n     1141 gaggtcgcca acatcttctt ctggaggccg tggttggctt gtatggagca gcagacgcgc\\n     1201 tacttcgagc ggaggcatcc ggagcttgca ggatcgccgc ggctccgggc gtatatgctc\\n     1261 cgcattggtc ttgaccaact ctatcagagc ttggttgacg gcaatttcga tgatgcagct\\n     1321 tgggcgcagg gtcgatgcga cgcaatcgtc cgatccggag ccgggactgt cgggcgtaca\\n     1381 caaatcgccc gcagaagcgc ggccgtctgg accgatggct gtgtagaagt actcgccgat\\n     1441 agtggaaacc gacgccccag cactcgtccg agggcaaagg aataatcagt actgacaata\\n     1501 aaaagattct tgttttcaag aacttgtcat ttgtatagtt tttttatatt gtagttgttc\\n     1561 tattttaatc aaatgttagc gtgatttata ttttttttcg cctcgacatc atctgcccag\\n     1621 atgcgaagtt aagtgcgcag aaagtaatat catgcgtcaa tcgtatgtga atgctggtcg\\n     1681 ctatactgct gtcgattcga tactaacgcc gccatccagt ttaaacgagc tcgaattcat\\n     1741 cgatgatatc agatccacta gtggcctatg cggccgcgga tctgccggtc tccctatagt\\n     1801 gagtcgtatt aatttcgata agccaggtta acctgcatta atgaatcggc caacgcgcgg\\n     1861 ggagaggcgg tttgcgtatt gggcgctctt ccgcttcctc gctcactgac tcgctgcgct\\n     1921 cggtcgttcg gctgcggcga gcggtatcag ctcactcaaa ggcggtaata cggttatcca\\n     1981 cagaatcagg ggataacgca ggaaagaaca tgtgagcaaa aggccagcaa aaggccagga\\n     2041 accgtaaaaa ggccgcgttg ctggcgtttt tccataggct ccgcccccct gacgagcatc\\n     2101 acaaaaatcg acgctcaagt cagaggtggc gaaacccgac aggactataa agataccagg\\n     2161 cgtttccccc tggaagctcc ctcgtgcgct ctcctgttcc gaccctgccg cttaccggat\\n     2221 acctgtccgc ctttctccct tcgggaagcg tggcgctttc tcaatgctca cgctgtaggt\\n     2281 atctcagttc ggtgtaggtc gttcgctcca agctgggctg tgtgcacgaa ccccccgttc\\n     2341 agcccgaccg ctgcgcctta tccggtaact atcgtcttga gtccaacccg gtaagacacg\\n     2401 acttatcgcc actggcagca gccactggta acaggattag cagagcgagg tatgtaggcg\\n     2461 gtgctacaga gttcttgaag tggtggccta actacggcta cactagaagg acagtatttg\\n     2521 gtatctgcgc tctgctgaag ccagttacct tcggaaaaag agttggtagc tcttgatccg\\n     2581 gcaaacaaac caccgctggt agcggtggtt tttttgtttg caagcagcag attacgcgca\\n     2641 gaaaaaaagg atctcaagaa gatcctttga tcttttctac ggggtctgac gctcagtgga\\n     2701 acgaaaactc acgttaaggg attttggtca tgagattatc aaaaaggatc ttcacctaga\\n     2761 tccttttaaa ttaaaaatga agttttaaat caatctaaag tatatatgag taaacttggt\\n     2821 ctgacagtta ccaatgctta atcagtgagg cacctatctc agcgatctgt ctatttcgtt\\n     2881 catccatagt tgcctgactc cccgtcgtgt agataactac gatacgggag ggcttaccat\\n     2941 ctggccccag tgctgcaatg ataccgcgag acccacgctc accggctcca gatttatcag\\n     3001 caataaacca gccagccgga agggccgagc gcagaagtgg tcctgcaact ttatccgcct\\n     3061 ccatccagtc tattaattgt tgccgggaag ctagagtaag tagttcgcca gttaatagtt\\n     3121 tgcgcaacgt tgttgccatt gctacaggca tcgtggtgtc acgctcgtcg tttggtatgg\\n     3181 cttcattcag ctccggttcc caacgatcaa ggcgagttac atgatccccc atgttgtgca\\n     3241 aaaaagcggt tagctccttc ggtcctccga tcgttgtcag aagtaagttg gccgcagtgt\\n     3301 tatcactcat ggttatggca gcactgcata attctcttac tgtcatgcca tccgtaagat\\n     3361 gcttttctgt gactggtgag tactcaacca agtcattctg agaatagtgt atgcggcgac\\n     3421 cgagttgctc ttgcccggcg tcaatacggg ataataccgc gccacatagc agaactttaa\\n     3481 aagtgctcat cattggaaaa cgttcttcgg ggcgaaaact ctcaaggatc ttaccgctgt\\n     3541 tgagatccag ttcgatgtaa cccactcgtg cacccaactg atcttcagca tcttttactt\\n     3601 tcaccagcgt ttctgggtga gcaaaaacag gaaggcaaaa tgccgcaaaa aagggaataa\\n     3661 gggcgacacg gaaatgttga atactcatac tcttcctttt tcaatattat tgaagcattt\\n     3721 atcagggtta ttgtctcatg agcggataca tatttgaatg tatttagaaa aataaacaaa\\n     3781 taggggttcc gcgcacattt ccccgaaaag tgccacctga cgtctaagaa accattatta\\n     3841 tcatgacatt aacctataaa aataggcgta tcacgaggcc ctttcgtctc gcgcgtttcg\\n     3901 gtgatgacgg tgaaaacctc tgacacatgc agctcccgga gacggtcaca gcttgtctgt\\n     3961 aagcggatgc cgggagcaga caagcccgtc agggcgcgtc agcgggtgtt ggcgggtgtc\\n     4021 ggggctggct taactatgcg gcatcagagc agattgtact gagagtgcac catatggaca\\n     4081 tattgtcgtt agaacgcggc tacaattaat acataacctt atgtatcata cacatacgat\\n     4141 ttaggtgaca ctataga\\n//\"\n",
      "}\n",
      "{\n",
      "  \"id\": 0,\n",
      "  \"input\": [],\n",
      "  \"output\": null,\n",
      "  \"type\": \"UploadedFileSource\",\n",
      "  \"output_name\": null,\n",
      "  \"database_id\": null,\n",
      "  \"sequence_file_format\": \"genbank\",\n",
      "  \"file_name\": \"pFA6a-hphMX6.gb\",\n",
      "  \"index_in_file\": 0,\n",
      "  \"circularize\": true\n",
      "}\n"
     ]
    }
   ],
   "source": [
    "from fastapi import UploadFile, Response\n",
    "from opencloning.endpoints.external_import import read_from_file\n",
    "\n",
    "with open('pFA6a-hphMX6.gb', 'rb') as f:\n",
    "    dummy_resp = Response()\n",
    "    # It's a bit annoying, but you cannot use default values of read_from_file because they\n",
    "    # are of type Query, and are not correctly handled when calling the function directly.\n",
    "    resp = await read_from_file(dummy_resp, UploadFile(file=f, filename='pFA6a-hphMX6.gb'), None, None, True, None)\n",
    "\n",
    "file_source = resp['sources'][0]\n",
    "file_seq = resp['sequences'][0]\n",
    "\n",
    "# Let's pretty-print see what we have\n",
    "print(file_seq.model_dump_json(indent=2))\n",
    "print(file_source.model_dump_json(indent=2))"
   ]
  },
  {
   "cell_type": "markdown",
   "metadata": {},
   "source": [
    "## Writing a cloning strategy json file\n",
    "\n",
    "Now that we have these three sequences, we can write a cloning strategy json file."
   ]
  },
  {
   "cell_type": "code",
   "execution_count": 24,
   "metadata": {},
   "outputs": [
    {
     "name": "stdout",
     "output_type": "stream",
     "text": [
      "1\n",
      "2\n",
      "3\n",
      "4\n",
      "5\n",
      "6\n"
     ]
    }
   ],
   "source": [
    "from opencloning.pydantic_models import BaseCloningStrategy\n",
    "\n",
    "# We create an empty cloning strategy\n",
    "cloning_strategy = BaseCloningStrategy(\n",
    "    sequences=[],\n",
    "    sources=[],\n",
    "    primers=[],\n",
    "    description='My example cloning strategy',\n",
    ")\n",
    "\n",
    "# Then add the sequences and sources that produce them\n",
    "cloning_strategy.add_source_and_sequence(file_source, file_seq)\n",
    "cloning_strategy.add_source_and_sequence(locus_source, locus_seq)\n",
    "cloning_strategy.add_source_and_sequence(addgene_source, plasmid_seq)\n",
    "\n",
    "# Notice that now, unique ids have been assigned to the sources and sequences\n",
    "print(file_source.id)\n",
    "print(file_seq.id)\n",
    "print(locus_source.id)\n",
    "print(locus_seq.id)\n",
    "print(addgene_source.id)\n",
    "print(plasmid_seq.id)\n"
   ]
  },
  {
   "cell_type": "markdown",
   "metadata": {},
   "source": [
    "We can now export the cloning strategy to a json file"
   ]
  },
  {
   "cell_type": "code",
   "execution_count": 25,
   "metadata": {},
   "outputs": [],
   "source": [
    "with open('first_strategy.json', 'w') as f:\n",
    "    f.write(cloning_strategy.model_dump_json(indent=2))\n"
   ]
  },
  {
   "cell_type": "markdown",
   "metadata": {},
   "source": [
    "And if you load it to OpenCloning website, you should see something like this:\n",
    "\n",
    "<img width=\"400px\" src=\"first_strategy.png\" alt=\"OpenCloning website screenshot\">\n"
   ]
  },
  {
   "cell_type": "markdown",
   "metadata": {},
   "source": [
    "## Doing PCR and Gibson Assembly\n",
    "\n",
    "Here, the principle is basically the same as before, but we use sources that take sequences and primers as inputs."
   ]
  },
  {
   "cell_type": "code",
   "execution_count": null,
   "metadata": {},
   "outputs": [],
   "source": []
  }
 ],
 "metadata": {
  "kernelspec": {
   "display_name": ".venv",
   "language": "python",
   "name": "python3"
  },
  "language_info": {
   "codemirror_mode": {
    "name": "ipython",
    "version": 3
   },
   "file_extension": ".py",
   "mimetype": "text/x-python",
   "name": "python",
   "nbconvert_exporter": "python",
   "pygments_lexer": "ipython3",
   "version": "3.12.2"
  }
 },
 "nbformat": 4,
 "nbformat_minor": 2
}
