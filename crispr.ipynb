{
 "cells": [
  {
   "cell_type": "code",
   "execution_count": 18,
   "metadata": {},
   "outputs": [
    {
     "name": "stdout",
     "output_type": "stream",
     "text": [
      "[18]\n",
      "23\n",
      "[((17, 0), cas9(GTT..CCC))]\n",
      "REsulting cuts\n",
      "GTTACTTTACCCGACGT\n",
      "CCCaGG\n"
     ]
    }
   ],
   "source": [
    "from pydna.dseqrecord import Dseqrecord\n",
    "from pydna.crispr import cas9, protospacer\n",
    "\n",
    "guide = \"GTTACTTTACCCGACGTCCCgttttagagctagaaatagcaagttaaaataagg\"\n",
    "target = \"GTTACTTTACCCGACGTCCCaGG\"\n",
    "\n",
    "ex_guide = \"GTTACTTTACCCGACGTCCC\"\n",
    "ex_target = \"GTTACTTTACCCGACGTCCCaGG\"\n",
    "\n",
    "# Create an enzyme object with the guide RNA\n",
    "enzyme = cas9(\"GTTACTTTACCCGACGTCCC\")\n",
    "\n",
    "print(enzyme.search(\"GTTACTTTACCCGACGTCCCaGG\"))\n",
    "print(len(ex_target))\n",
    "\n",
    "dsqr_target = Dseqrecord(ex_target)\n",
    "print(dsqr_target.seq.get_cutsites(enzyme))\n",
    "print(\"REsulting cuts\")\n",
    "for i in dsqr_target.cut(enzyme):\n",
    "    print(i.seq)\n"
   ]
  },
  {
   "cell_type": "code",
   "execution_count": 2,
   "metadata": {},
   "outputs": [
    {
     "data": {
      "text/plain": [
       "'atttgtcaaacagattccca'"
      ]
     },
     "execution_count": 2,
     "metadata": {},
     "output_type": "execute_result"
    }
   ],
   "source": [
    "\"ATTTGTCAAACAGATTCCCA\".lower()"
   ]
  },
  {
   "cell_type": "code",
   "execution_count": 33,
   "metadata": {},
   "outputs": [
    {
     "name": "stdout",
     "output_type": "stream",
     "text": [
      "[18]\n",
      "[7]\n"
     ]
    }
   ],
   "source": [
    "from pydna.dseqrecord import Dseqrecord\n",
    "from pydna.crispr import cas9, protospacer\n",
    "\n",
    "guide = \"gttactttacccgacgtccc\"\n",
    "\n",
    "target = \"GTTACTTTACCCGACGTCCCaGG\"\n",
    "rc_target = \"CCtGGGACGTCGGGTAAAGTAAC\"\n",
    "\n",
    "# Create an enzyme object with the guide RNA\n",
    "enzyme = cas9(guide.upper())\n",
    "\n",
    "# Search for a cutsite in the target sequence\n",
    "print(enzyme.search(target))\n",
    "print(enzyme.search(rc_target))\n"
   ]
  },
  {
   "cell_type": "markdown",
   "metadata": {},
   "source": [
    "# CRISPR Testing info\n",
    "\n",
    "Plasmid addgene ID: 39295\n",
    "\n",
    "RF: TTTCATATCTTCCTTTATATTCTATTAATTGAATTTCAAACATCGTTTTATTGAGCTCATTTACATCAACCGGTTCAATGtacccatacgatgttcctgactatgcgggctatccgtatgacgtcccggactatgcaggatcctatccatatgacgttccagattacgctCAAACAGTAATGATGGATGACATTCAAAGCACTGATTCTATTGCTGAAAAAGATAATCACTCTAATAATGAATCTAACTT"
   ]
  },
  {
   "cell_type": "code",
   "execution_count": 48,
   "metadata": {},
   "outputs": [
    {
     "name": "stdout",
     "output_type": "stream",
     "text": [
      "[((851, 0), cas9(CAT..AAC))]\n"
     ]
    }
   ],
   "source": [
    "from pydna.dseqrecord import Dseqrecord\n",
    "from pydna.parsers import parse as pydna_parse\n",
    "import assembly2 as assembly\n",
    "from pydna.crispr import cas9, _cas\n",
    "\n",
    "RF = Dseqrecord(\"TTTCATATCTTCCTTTATATTCTATTAATTGAATTTCAAACATCGTTTTATTGAGCTCATTTACATCAACCGGTTCAATGtacccatacgatgttcctgactatgcgggctatccgtatgacgtcccggactatgcaggatcctatccatatgacgttccagattacgctCAAACAGTAATGATGGATGACATTCAAAGCACTGATTCTATTGCTGAAAAAGATAATCACTCTAATAATGAATCTAACTT\")\n",
    "guide = Dseqrecord(\"CATTACTGTTTGCATTGAAC\")\n",
    "\n",
    "file = open(\"/Users/dgruano/dev/learn/Genestorian/ShareYourCloning_backend/test_files/ase1.gb\")\n",
    "file_content = file.read()\n",
    "target = pydna_parse(file_content)[0]\n",
    "\n",
    "#target = Dseqrecord(\"ACGTgggAATT\")\n",
    "#RF = Dseqrecord(\"ACGTccAATT\")\n",
    "\n",
    "fragments = [target, RF]\n",
    "\n",
    "# Use homologous_recombination as a reference\n",
    "asm = assembly.Assembly(fragments, 80, use_all_fragments=True)\n",
    "possible_assemblies = [a for a in asm.get_insertion_assemblies() if a[0][0] == 1]\n",
    "\n",
    "# Extract target coordinates to check if the guide RNA is in the target\n",
    "target_start = int(possible_assemblies[0][0][2].start)\n",
    "target_end = int(possible_assemblies[0][1][3].end)\n",
    "\n",
    "# Is the cutsite within the target? There needs to be at least 1 bp to the right and left of the cutsite\n",
    "\n",
    "# Create an enzyme object with the guide RNA\n",
    "guide = \"CATTACTGTTTGCATTGAAC\"\n",
    "enzyme = cas9(guide.upper())\n",
    "\n",
    "# cut_location = enzyme.search(target.seq)\n",
    "# print(cut_location)\n",
    "\n",
    "possible_cuts = [c for c in target.seq.get_cutsites(enzyme) if c[0][0] >= target_start and c[0][0] <= target_end]\n",
    "print(possible_cuts)\n",
    "\n",
    "\n",
    "\n",
    "\n"
   ]
  },
  {
   "cell_type": "code",
   "execution_count": 79,
   "metadata": {},
   "outputs": [
    {
     "name": "stdout",
     "output_type": "stream",
     "text": [
      "Number of possible assemblies:  1\n",
      "('1[0:3]:2[0:3]', '2[4:7]:1[6:9]')\n",
      "\n",
      "Target start and end:\n",
      "0 9\n",
      "\n",
      "Cut positions:\n",
      "[((9, 0), test_cas9(GTA..AAA))]\n",
      "\n",
      "CRISPR-compatible cuts:\n",
      "[((9, 0), test_cas9(GTA..AAA))]\n"
     ]
    }
   ],
   "source": [
    "class test_cas9(cas9):\n",
    "    pam = \".GG\"\n",
    "    size = 5\n",
    "    fst5 = 2\n",
    "    fst3 = -3\n",
    "\n",
    "#guide = \"TAAAA\"\n",
    "#target = Dseqrecord(\"ACGtaaaaAGGTGCA\")\n",
    "#RF = Dseqrecord(\"ACGcccGGT\")\n",
    "    \n",
    "\"\"\"\n",
    "EX0: Cut in the middle of HR seq\n",
    "    ><\n",
    "   taaaaPAM\n",
    "   |||||\n",
    "ACGtaaaaAGGTGCA\n",
    "|||      |||\n",
    "ACG......GGT\n",
    "\"\"\"\n",
    "\n",
    "guide = \"GTaaa\"\n",
    "target = Dseqrecord(\"ACGtttGGTAAAAGGACGT\")\n",
    "RF = Dseqrecord(\"ACGcGGT\")\n",
    "\"\"\"\n",
    "EX1: Cut on the right part of HR\n",
    "        ><\n",
    "       GTaaaPAM\n",
    "       |||||\n",
    "ACGtttGGTAAAAGGACGT\n",
    "|||    |||\n",
    "ACG....GTA\n",
    "\"\"\"\n",
    "\n",
    "#guide = \"ACGtt\"\n",
    "#target = Dseqrecord(\"ACGttAGGCTGCA\")\n",
    "#RF = Dseqrecord(\"ACGccGGC\")\n",
    "\n",
    "\"\"\"\n",
    "EX2: Cut on the left part of HR\n",
    " ><\n",
    "ACGttPAM  \n",
    "|||||\n",
    "ACGttAGGCTGCA\n",
    " |||  |||\n",
    " CGT..GGC\n",
    "\"\"\"\n",
    "\n",
    "#guide = \"GTaaa\"\n",
    "#target = Dseqrecord(\"ACGtttGGTAAAAGGACGT\")\n",
    "#RF = Dseqrecord(\"ACGcGGT\")\n",
    "\"\"\"\n",
    "EX3: Cut to the right of HR\n",
    "        ><\n",
    "       GTaaaPAM\n",
    "       |||||\n",
    "ACGtttGGTAAAAGGACGT\n",
    "|||   |||\n",
    "ACG...GGT\n",
    "\"\"\"\n",
    "\n",
    "#guide = \"GTaaa\"\n",
    "#target = Dseqrecord(\"TTTGGTaaaAGGACGT\")\n",
    "#RF = Dseqrecord(\"AAAccACG\")\n",
    "\n",
    "\"\"\"\n",
    "EX4: Cut to the left of HR\n",
    "     ><\n",
    "    GTaaaPAM\n",
    "    |||||PAM\n",
    "TTTGGTaaaAGGACGT\n",
    "      |||   |||\n",
    "      AAA...ACG\n",
    "\"\"\"\n",
    "\n",
    "#guide = \"GTaaa\"\n",
    "#target = Dseqrecord(\"ACGtttGGTAAAAGGTGCA\")\n",
    "#RF = Dseqrecord(\"ACGaaGGT\")\n",
    "\"\"\"\n",
    "EX5: Double target HR\n",
    "        ><\n",
    "       GTaaaPAM\n",
    "       |||||\n",
    "ACGtttGGTAAAAGGTGCA\n",
    "|||   |||\n",
    "ACG...GGT\n",
    "\"\"\"\n",
    "\n",
    "fragments = [target, RF]\n",
    "asm = assembly.Assembly(fragments, 3, use_all_fragments=True)\n",
    "possible_assemblies = [a for a in asm.get_insertion_assemblies() if a[0][0] == 1]\n",
    "\n",
    "print(\"Number of possible assemblies: \", len(possible_assemblies))\n",
    "for a in possible_assemblies:\n",
    "    print(assembly.assembly2str(a))\n",
    "\n",
    "#print(assembly.assemble(fragments, possible_assemblies[0], False))\n",
    "\n",
    "target_start = int(possible_assemblies[0][0][2].start)\n",
    "target_end = int(possible_assemblies[0][1][3].end)\n",
    "\n",
    "test_enzyme = test_cas9(guide.upper())\n",
    "cut_pos = target.seq.get_cutsites(test_enzyme)\n",
    "\n",
    "print()\n",
    "print(\"Target start and end:\")\n",
    "print(target_start, target_end)\n",
    "print()\n",
    "print(\"Cut positions:\")\n",
    "print(cut_pos)\n",
    "\n",
    "reparable_cuts = [c for c in cut_pos if c[0][0] > target_start and c[0][0] <= target_end]\n",
    "\n",
    "print()\n",
    "print(\"CRISPR-compatible cuts:\")\n",
    "print(possible_cuts)\n",
    "\n"
   ]
  },
  {
   "cell_type": "code",
   "execution_count": 41,
   "metadata": {},
   "outputs": [
    {
     "name": "stdout",
     "output_type": "stream",
     "text": [
      "Dseqrecord\n",
      "circular: False\n",
      "size: 30\n",
      "ID: part_NC_003424\n",
      "Name: part_NC_003424\n",
      "Description: Schizosaccharomyces pombe chromosome I, complete sequence\n",
      "Database cross-references: BioProject:PRJNA127, BioSample:SAMEA3138176, Assembly:GCF_000002945.1\n",
      "Number of features: 0\n",
      "/molecule_type=DNA\n",
      "/topology=linear\n",
      "/data_file_division=CON\n",
      "/date=21-MAR-2024\n",
      "/keywords=['RefSeq', 'complete genome']\n",
      "/source=Schizosaccharomyces pombe (fission yeast)\n",
      "/organism=Schizosaccharomyces pombe\n",
      "/taxonomy=['Eukaryota', 'Fungi', 'Dikarya', 'Ascomycota', 'Taphrinomycotina', 'Schizosaccharomycetes', 'Schizosaccharomycetales', 'Schizosaccharomycetaceae', 'Schizosaccharomyces']\n",
      "/references=[Reference(title='The genome sequence of Schizosaccharomyces pombe', ...), Reference(title='Direct Submission', ...), Reference(title='Direct Submission', ...)]\n",
      "/comment=        Annotation Provider :: PomBase\n",
      "        Annotation Status   :: Full annotation\n",
      "        Annotation Pipeline :: Eukaryotic Annotation Propagation Pipeline\n",
      "        ##Genome-Annotation-Data-END##\n",
      "        PROVISIONAL REFSEQ: This record has not yet been subject to final\n",
      "        NCBI review. The reference sequence is identical to CU329670.\n",
      "        On Dec 11, 2007 this sequence version replaced NC_003424.2.\n",
      "        Notes:\n",
      "        S. pombe (fission yeast) sequence and annotation are available\n",
      "        from: (URL, http://www.genedb.org/genedb/pombe/index.jsp) (URL,\n",
      "        http://www.sanger.ac.uk/Projects/S_pombe/)\n",
      "        CDS are numbered using the following system eg SPAC5H10.01c. SP (S.\n",
      "        pombe), A (chromosome 1), c5H10 (cosmid name), .01 (first CDS), c\n",
      "        (complementary strand). However, clones may have been reorientated\n",
      "        since the original submission, therefore the complementary strand\n",
      "        notation may be invalid for strand inference.\n",
      "Dseq(-30)\n",
      "ATCAACCGGTTCAATGCAAACAGTAATGAT\n",
      "TAGTTGGCCAAGTTACGTTTGTCATTACTA\n"
     ]
    }
   ],
   "source": [
    "print(target[840:870])"
   ]
  }
 ],
 "metadata": {
  "kernelspec": {
   "display_name": ".venv",
   "language": "python",
   "name": "python3"
  },
  "language_info": {
   "codemirror_mode": {
    "name": "ipython",
    "version": 3
   },
   "file_extension": ".py",
   "mimetype": "text/x-python",
   "name": "python",
   "nbconvert_exporter": "python",
   "pygments_lexer": "ipython3",
   "version": "3.10.6"
  }
 },
 "nbformat": 4,
 "nbformat_minor": 2
}
