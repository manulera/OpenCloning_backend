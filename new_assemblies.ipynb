{
 "cells": [
  {
   "cell_type": "markdown",
   "metadata": {},
   "source": [
    "> Note: To run this notebook you will need to install ipython dependencies `poetry install --with ipython`\n",
    "\n",
    "# New assembly model\n",
    "\n",
    "Most of the sequence manipulations performed in pydna could be considered either:\n",
    "\n",
    "* A cut (getting a subfragment of a sequence)\n",
    "* An assembly (combining subfragments of existing sequences into a new sequence)\n",
    "\n",
    "## Almost anything can be considered an assembly\n",
    "\n",
    "The concept of assembly can be extended to operations that may not appear as assemblies:\n",
    "* PCR: if we consider primers to be sequences, producing the final sequence algorithmically it's like a gibson assembly or any other type of homology cloning.\n",
    "* Cut + ligation: if we think of the regions of parent sequences that will form overhangs after cutting, we can treat them as homology to produce the final product.\n",
    "\n",
    "## How to represent this\n",
    "\n",
    "Let's consider the below example, a circular gibson assembly of 3 fragments. The homologous regions between them are labelled in light blue.\n",
    "\n",
    "\n",
    "<img src=\"images/assembly.png\" width=\"250\">\n",
    "\n",
    "\n",
    "We can represent the assembly of this fragments, as a list of \"joins\" between fragments. Each join represents the overlap between the two fragments involved:\n",
    "\n",
    "```python\n",
    "assembly = [\n",
    "    [1, 2, '18..21', '1..4']\n",
    "    [2, 3, '9..12', '1..4']\n",
    "    [3, 1, '10..13', '1..4'] # Note how the last fragment is the same as the first one in a circular assembly\n",
    "]\n",
    "```\n",
    "\n",
    "- The first and second integers represent the index of the fragment in the\n",
    "input list of fragments. The sign of the integer represents the orientation\n",
    "of the fragment, positive for forward orientation, negative for reverse orientation.\n",
    "- The strings represent the location of the overlap in the first and second fragment.\n",
    "- We should also indicate whether the assembly is circular or not separately, since it would be possible that a linear assembly is formed where the fragment 1 is used as first and last.\n",
    "\n",
    "Now let's see this in action with a first example (A Gibson assembly).\n"
   ]
  },
  {
   "cell_type": "markdown",
   "metadata": {},
   "source": [
    "## With a Gibson Assembly"
   ]
  },
  {
   "cell_type": "code",
   "execution_count": 32,
   "metadata": {},
   "outputs": [
    {
     "name": "stdout",
     "output_type": "stream",
     "text": [
      "Assembly 1 represented as above:\n",
      "((1, 2, '[17:21]', '[0:4]'), (2, 3, '[8:12]', '[0:4]'), (3, 1, '[9:13]', '[0:4]'))\n",
      "Assembly 1 represented as a simpler tuple of strings:\n",
      "('1[17:21]:2[0:4]', '2[8:12]:3[0:4]', '3[9:13]:1[0:4]')\n",
      "\n",
      "Assembly 2 represented as above:\n",
      "((1, -2, '[17:21]', '[0:4]'), (-2, 3, '[8:12]', '[0:4]'), (3, 1, '[9:13]', '[0:4]'))\n",
      "Assembly 2 represented as a simpler tuple of strings:\n",
      "('1[17:21]:-2[0:4]', '-2[8:12]:3[0:4]', '3[9:13]:1[0:4]')\n",
      "\n"
     ]
    }
   ],
   "source": [
    "from pydna.dseqrecord import Dseqrecord\n",
    "import assembly2 as assembly\n",
    "#Input fragments, overlaps between them are in caps\n",
    "fragments = [\n",
    "            Dseqrecord('TTTTacgatAAtgctccCCCC', circular=False),\n",
    "            Dseqrecord('CCCCtcatGGGG', circular=False),\n",
    "            Dseqrecord('GGGGatataTTTT', circular=False)\n",
    "        ]\n",
    "\n",
    "# gibson_overlap is an `algorithm` function that finds overlaps between the 3' end of the first\n",
    "# fragment and the 5' end of the second fragment.\n",
    "asm = assembly.Assembly(fragments, limit=4, algorithm=assembly.gibson_overlap, use_all_fragments=True, use_fragment_order=False)\n",
    "\n",
    "# Let's get the possible circular assemblies\n",
    "for i, a in enumerate(asm.get_circular_assemblies()):\n",
    "    print(f'Assembly {i+1} represented as above:')\n",
    "    print(assembly.assembly2str_tuple(a))\n",
    "    print(f'Assembly {i+1} represented as a simpler tuple of strings:')\n",
    "    print(assembly.assembly2str(a))\n",
    "    print()\n",
    "\n"
   ]
  },
  {
   "cell_type": "markdown",
   "metadata": {},
   "source": [
    "As you can see, there are two possible circular assemblies, one with all fragments oriented as they were passed to the class constructor, and one with the second fragment inverted (see -2).\n",
    "\n",
    "### Using graphs: fragments as nodes and joins between them as edges\n",
    "\n",
    "How are these assemblies found? The `Assembly` class contains a graph, which is slightly different from the current implementation in pydna. A directed graph, where nodes represent fragments and\n",
    "edges represent overlaps between fragments:\n",
    "- The node keys are integers, representing the index of the fragment in the\n",
    "input list of fragments. The sign of the node key represents the orientation\n",
    "of the fragment, positive for forward orientation, negative for reverse orientation.\n",
    "- The edges contain the locations of the overlaps in the fragments. For an edge `(u, v, key)`:\n",
    "    - `u` and `v` are the nodes connected by the edge.\n",
    "    - key is a string that represents the location of the overlap. In the format introduced above:\n",
    "    `u[start:end](strand):v[start:end](strand)`.\n",
    "    - Edges have a `locations` attribute, which is a list of two `Location` objects,\n",
    "    representing the location of the overlap in the `u` and `v` fragment.\n",
    "    - You can think of an edge as a representation of the join of two fragments.\n",
    "\n",
    "Let's look at how the edges of the previous graph look"
   ]
  },
  {
   "cell_type": "code",
   "execution_count": 33,
   "metadata": {},
   "outputs": [
    {
     "name": "stdout",
     "output_type": "stream",
     "text": [
      "(1, 2, '1[17:21]:2[0:4]')\n",
      "(1, -2, '1[17:21]:-2[0:4]')\n",
      "(2, -1, '2[8:12]:-1[0:4]')\n",
      "(2, 3, '2[8:12]:3[0:4]')\n",
      "(3, 1, '3[9:13]:1[0:4]')\n",
      "(-1, -3, '-1[17:21]:-3[0:4]')\n",
      "(-2, -1, '-2[8:12]:-1[0:4]')\n",
      "(-2, 3, '-2[8:12]:3[0:4]')\n",
      "(-3, -2, '-3[9:13]:-2[0:4]')\n",
      "(-3, 2, '-3[9:13]:2[0:4]')\n"
     ]
    }
   ],
   "source": [
    "print(*asm.G.edges, sep='\\n')"
   ]
  },
  {
   "cell_type": "markdown",
   "metadata": {},
   "source": [
    "Note that multiple edges can exist between two nodes. For instance, if a subsequence in node `x` is homologous to two subsequences in node `y`."
   ]
  },
  {
   "cell_type": "code",
   "execution_count": 34,
   "metadata": {},
   "outputs": [
    {
     "name": "stdout",
     "output_type": "stream",
     "text": [
      "(1, 2, '1[4:8]:2[1:5]')\n",
      "(1, 2, '1[4:8]:2[6:10]')\n",
      "(2, 1, '2[6:10]:1[4:8]')\n",
      "(2, 1, '2[1:5]:1[4:8]')\n",
      "(-1, -2, '-1[1:5]:-2[1:5]')\n",
      "(-1, -2, '-1[1:5]:-2[6:10]')\n",
      "(-2, -1, '-2[6:10]:-1[1:5]')\n",
      "(-2, -1, '-2[1:5]:-1[1:5]')\n"
     ]
    }
   ],
   "source": [
    "fragments = [\n",
    "            Dseqrecord('TTTTCCCCG', circular=False),\n",
    "            Dseqrecord('GCCCCaCCCCa', circular=False),\n",
    "        ]\n",
    "\n",
    "asm = assembly.Assembly(fragments, limit=4, algorithm=assembly.common_sub_strings, use_all_fragments=True, use_fragment_order=False)\n",
    "print(*asm.G.edges, sep='\\n')"
   ]
  },
  {
   "cell_type": "markdown",
   "metadata": {},
   "source": [
    "### Finding assemblies with the graph and constrains applied\n",
    "\n",
    "The function `Assembly.get_circular_assemblies` finds circular paths along these edges. Constrains have been applied so that all fragments are used (`use_all_fragments=True`), and not to reproduce the default pydna behaviour in which the first and last fragments must appear first and last (`use_fragment_order=False`).\n",
    "\n",
    "To avoid returning the same assembly twice, we apply the following constrains:\n",
    "- **Circular assemblies**: the first subfragment is not reversed, and has the smallest index in the input fragment list.\n",
    "    use_fragment_order is ignored.\n",
    "- **Linear assemblies**: the first fragment is always in the forward orientation.\n",
    "\n",
    "\n"
   ]
  },
  {
   "cell_type": "markdown",
   "metadata": {},
   "source": [
    "## With a restriction + ligation"
   ]
  },
  {
   "cell_type": "code",
   "execution_count": 35,
   "metadata": {},
   "outputs": [
    {
     "name": "stdout",
     "output_type": "stream",
     "text": [
      "# Using classic pydna\n",
      "Expected products:\n",
      "AAAGAATTCCCC\n",
      "AAAGAATTCGGGG\n",
      "CCCCGAATTCTTT\n",
      "CCCCGAATTCAAA\n",
      "\n",
      "# Using new assembly\n",
      "assembly: ('1[4:8]:2[5:9]',)\n",
      "sequence: AAAGAATTCCCC\n",
      "\n",
      "assembly: ('1[4:8]:-2[4:8]',)\n",
      "sequence: AAAGAATTCGGGG\n",
      "\n",
      "assembly: ('2[5:9]:-1[4:8]',)\n",
      "sequence: CCCCGAATTCTTT\n",
      "\n",
      "assembly: ('2[5:9]:1[4:8]',)\n",
      "sequence: CCCCGAATTCAAA\n",
      "\n"
     ]
    }
   ],
   "source": [
    "from Bio.Restriction import EcoRI\n",
    "\n",
    "fragments = [\n",
    "    Dseqrecord('AAAGAATTCAAA'), Dseqrecord('CCCCGAATTCCCC')\n",
    "]\n",
    "\n",
    "# Let's print how we would do it with classic pydna\n",
    "f0_a, f0_b = fragments[0].cut(EcoRI)\n",
    "f1_a, f1_b = fragments[1].cut(EcoRI)\n",
    "\n",
    "print('# Using classic pydna')\n",
    "print('Expected products:')\n",
    "print((f0_a + f1_b).seq)\n",
    "print((f0_a + f1_a.reverse_complement()).seq)\n",
    "print((f1_a + f0_a.reverse_complement()).seq)\n",
    "print((f1_a + f0_b).seq)\n",
    "print()\n",
    "\n",
    "\n",
    "print('# Using new assembly')\n",
    "# Here we define the function in line, because `algorithm` functions are expected\n",
    "# to take three inputs (x, y, l): Dseqrecord, Dseqrecord and an integer for the overlap,\n",
    "# and it would not make sense to add an extra field in case of restriction enzymes.\n",
    "algo = lambda x, y, l : assembly.restriction_ligation_overlap(x, y, [EcoRI])\n",
    "asm = assembly.Assembly(fragments, algorithm=algo, use_fragment_order=False)\n",
    "\n",
    "for a in asm.get_linear_assemblies():\n",
    "    print('assembly:',assembly.assembly2str(a))\n",
    "    print('sequence:',assembly.assemble(fragments, a, False).seq)\n",
    "    print()\n",
    "\n"
   ]
  },
  {
   "cell_type": "markdown",
   "metadata": {},
   "source": [
    "## With Golden Gate\n",
    "\n",
    "This is actually ligation - restriction again. For a longer example, see `test_golden_gate` in the file `test_assembly.py`."
   ]
  },
  {
   "cell_type": "code",
   "execution_count": 36,
   "metadata": {},
   "outputs": [
    {
     "name": "stdout",
     "output_type": "stream",
     "text": [
      "assembly: ('1[16:20]:2[7:11]',)\n",
      "sequence: GGTCTCAattaAAAAAttaaCCCCCatatAGAGACC\n",
      "assembly: ('1[16:20]:-2[16:20]',)\n",
      "sequence: GGTCTCAattaAAAAAttaaTGAGACC\n",
      "assembly: ('2[7:11]:-1[7:11]',)\n",
      "sequence: GGTCTCAttaaTTTTTtaatTGAGACC\n",
      "assembly: ('2[7:11]:1[16:20]',)\n",
      "sequence: GGTCTCAttaaAGAGACC\n"
     ]
    }
   ],
   "source": [
    "from Bio.Restriction import BsaI\n",
    "\n",
    "fragments = [Dseqrecord('GGTCTCAattaAAAAAttaaAGAGACC'), Dseqrecord('GGTCTCAttaaCCCCCatatAGAGACC')]\n",
    "\n",
    "algo = lambda x, y, l : assembly.restriction_ligation_overlap(x, y, [BsaI])\n",
    "asm = assembly.Assembly(fragments, use_fragment_order=False, limit=10, algorithm=algo)\n",
    "\n",
    "for a in asm.get_linear_assemblies():\n",
    "    print('assembly:',assembly.assembly2str(a))\n",
    "    print('sequence:',assembly.assemble(fragments, a, False).seq)\n"
   ]
  },
  {
   "cell_type": "markdown",
   "metadata": {},
   "source": [
    "# With PCR"
   ]
  },
  {
   "cell_type": "code",
   "execution_count": 37,
   "metadata": {},
   "outputs": [
    {
     "name": "stdout",
     "output_type": "stream",
     "text": [
      "assembly: ('1[0:8]:2[4:12]', '2[18:26]:-3[0:8]')\n",
      "sequence: ACGTACGTAAAAAAGCGCGCGC\n",
      "\n",
      "Invert fragment:\n",
      "assembly: ('1[0:8]:-2[4:12]', '-2[18:26]:-3[0:8]')\n",
      "sequence: ACGTACGTAAAAAAGCGCGCGC\n",
      "\n",
      "Invert primer:\n",
      "Length here should be 0, but is 1\n"
     ]
    }
   ],
   "source": [
    "\n",
    "primer1 = Dseqrecord('ACGTACGT')\n",
    "primer2 = Dseqrecord('GCGCGCGC').reverse_complement()\n",
    "\n",
    "seq = Dseqrecord('TTTTACGTACGTAAAAAAGCGCGCGCTTTTT')\n",
    "\n",
    "fragments = [primer1, seq, primer2]\n",
    "\n",
    "# PCR assembly is a special type of assembly, the order of the fragments should be\n",
    "# as above\n",
    "asm = assembly.PCRAssembly(fragments, limit=8)\n",
    "\n",
    "for a in asm.get_linear_assemblies():\n",
    "    print('assembly:',assembly.assembly2str(a))\n",
    "    print('sequence:',assembly.assemble(fragments, a, False).seq)\n",
    "\n",
    "print()\n",
    "print('Invert fragment:')\n",
    "\n",
    "# See that it also works with inverted fragment:\n",
    "fragments = [primer1, seq.reverse_complement(), primer2]\n",
    "\n",
    "# PCR assembly is a special type of assembly, the order of the fragments should be\n",
    "# as above\n",
    "asm = assembly.PCRAssembly(fragments, limit=8)\n",
    "\n",
    "for a in asm.get_linear_assemblies():\n",
    "    print('assembly:',assembly.assembly2str(a))\n",
    "    print('sequence:',assembly.assemble(fragments, a, False).seq)\n",
    "\n",
    "# This is a bug that I just realised, it also works with reverse complemented primers,\n",
    "# will look into this\n",
    "print()\n",
    "print('Invert primer:')\n",
    "\n",
    "fragments = [primer1.reverse_complement(), seq, primer2]\n",
    "\n",
    "# PCR assembly is a special type of assembly, the order of the fragments should be\n",
    "# as above\n",
    "asm = assembly.PCRAssembly(fragments, limit=8)\n",
    "\n",
    "print('Length here should be 0, but is', len(asm.get_linear_assemblies()))\n",
    "\n"
   ]
  },
  {
   "cell_type": "markdown",
   "metadata": {},
   "source": [
    "## With homologous recombination"
   ]
  },
  {
   "cell_type": "code",
   "execution_count": 38,
   "metadata": {},
   "outputs": [],
   "source": [
    "# Not included here yet, but you can have a look at test_insertion_assembly in the file test_assembly.py"
   ]
  }
 ],
 "metadata": {
  "kernelspec": {
   "display_name": ".venv",
   "language": "python",
   "name": "python3"
  },
  "language_info": {
   "codemirror_mode": {
    "name": "ipython",
    "version": 3
   },
   "file_extension": ".py",
   "mimetype": "text/x-python",
   "name": "python",
   "nbconvert_exporter": "python",
   "pygments_lexer": "ipython3",
   "version": "3.11.1"
  }
 },
 "nbformat": 4,
 "nbformat_minor": 2
}
